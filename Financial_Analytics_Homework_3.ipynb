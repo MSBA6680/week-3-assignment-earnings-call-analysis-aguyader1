{
  "nbformat": 4,
  "nbformat_minor": 0,
  "metadata": {
    "colab": {
      "provenance": []
    },
    "kernelspec": {
      "name": "python3",
      "display_name": "Python 3"
    },
    "language_info": {
      "name": "python"
    }
  },
  "cells": [
    {
      "cell_type": "code",
      "execution_count": 1,
      "metadata": {
        "colab": {
          "base_uri": "https://localhost:8080/"
        },
        "id": "KxZKT36vjWkt",
        "outputId": "584c8c8a-2248-412c-9dc0-0c1b1fc7f8a3"
      },
      "outputs": [
        {
          "output_type": "stream",
          "name": "stdout",
          "text": [
            "Requirement already satisfied: nltk in /usr/local/lib/python3.11/dist-packages (3.9.1)\n",
            "Requirement already satisfied: PyPDF2 in /usr/local/lib/python3.11/dist-packages (3.0.1)\n",
            "Requirement already satisfied: pandas in /usr/local/lib/python3.11/dist-packages (2.2.2)\n",
            "Requirement already satisfied: matplotlib in /usr/local/lib/python3.11/dist-packages (3.10.0)\n",
            "Requirement already satisfied: click in /usr/local/lib/python3.11/dist-packages (from nltk) (8.1.8)\n",
            "Requirement already satisfied: joblib in /usr/local/lib/python3.11/dist-packages (from nltk) (1.4.2)\n",
            "Requirement already satisfied: regex>=2021.8.3 in /usr/local/lib/python3.11/dist-packages (from nltk) (2024.11.6)\n",
            "Requirement already satisfied: tqdm in /usr/local/lib/python3.11/dist-packages (from nltk) (4.67.1)\n",
            "Requirement already satisfied: numpy>=1.23.2 in /usr/local/lib/python3.11/dist-packages (from pandas) (2.0.2)\n",
            "Requirement already satisfied: python-dateutil>=2.8.2 in /usr/local/lib/python3.11/dist-packages (from pandas) (2.8.2)\n",
            "Requirement already satisfied: pytz>=2020.1 in /usr/local/lib/python3.11/dist-packages (from pandas) (2025.2)\n",
            "Requirement already satisfied: tzdata>=2022.7 in /usr/local/lib/python3.11/dist-packages (from pandas) (2025.2)\n",
            "Requirement already satisfied: contourpy>=1.0.1 in /usr/local/lib/python3.11/dist-packages (from matplotlib) (1.3.1)\n",
            "Requirement already satisfied: cycler>=0.10 in /usr/local/lib/python3.11/dist-packages (from matplotlib) (0.12.1)\n",
            "Requirement already satisfied: fonttools>=4.22.0 in /usr/local/lib/python3.11/dist-packages (from matplotlib) (4.57.0)\n",
            "Requirement already satisfied: kiwisolver>=1.3.1 in /usr/local/lib/python3.11/dist-packages (from matplotlib) (1.4.8)\n",
            "Requirement already satisfied: packaging>=20.0 in /usr/local/lib/python3.11/dist-packages (from matplotlib) (24.2)\n",
            "Requirement already satisfied: pillow>=8 in /usr/local/lib/python3.11/dist-packages (from matplotlib) (11.1.0)\n",
            "Requirement already satisfied: pyparsing>=2.3.1 in /usr/local/lib/python3.11/dist-packages (from matplotlib) (3.2.3)\n",
            "Requirement already satisfied: six>=1.5 in /usr/local/lib/python3.11/dist-packages (from python-dateutil>=2.8.2->pandas) (1.17.0)\n"
          ]
        }
      ],
      "source": [
        "pip install nltk PyPDF2 pandas matplotlib"
      ]
    },
    {
      "cell_type": "code",
      "source": [
        "import nltk\n",
        "nltk.download('punkt')\n",
        "nltk.download('stopwords')\n",
        "nltk.download('vader_lexicon')"
      ],
      "metadata": {
        "colab": {
          "base_uri": "https://localhost:8080/"
        },
        "id": "H-A366c3jZfk",
        "outputId": "5802225d-048d-4e6a-a242-25836e41e42f"
      },
      "execution_count": 2,
      "outputs": [
        {
          "output_type": "stream",
          "name": "stderr",
          "text": [
            "[nltk_data] Downloading package punkt to /root/nltk_data...\n",
            "[nltk_data]   Package punkt is already up-to-date!\n",
            "[nltk_data] Downloading package stopwords to /root/nltk_data...\n",
            "[nltk_data]   Package stopwords is already up-to-date!\n",
            "[nltk_data] Downloading package vader_lexicon to /root/nltk_data...\n",
            "[nltk_data]   Package vader_lexicon is already up-to-date!\n"
          ]
        },
        {
          "output_type": "execute_result",
          "data": {
            "text/plain": [
              "True"
            ]
          },
          "metadata": {},
          "execution_count": 2
        }
      ]
    },
    {
      "cell_type": "code",
      "source": [
        "!sudo apt-get update"
      ],
      "metadata": {
        "colab": {
          "base_uri": "https://localhost:8080/"
        },
        "id": "avJhcbU4nxMP",
        "outputId": "66821315-329c-43fd-82c7-0fa9e3de3346"
      },
      "execution_count": 3,
      "outputs": [
        {
          "output_type": "stream",
          "name": "stdout",
          "text": [
            "\r0% [Working]\r            \rHit:1 http://archive.ubuntu.com/ubuntu jammy InRelease\n",
            "\r0% [Waiting for headers] [Waiting for headers] [Connected to cloud.r-project.or\r                                                                               \rHit:2 http://archive.ubuntu.com/ubuntu jammy-updates InRelease\n",
            "\r                                                                               \rHit:3 http://archive.ubuntu.com/ubuntu jammy-backports InRelease\n",
            "\r                                                                               \rHit:4 http://security.ubuntu.com/ubuntu jammy-security InRelease\n",
            "\r0% [Connected to cloud.r-project.org (108.157.173.54)] [Connected to r2u.stat.i\r                                                                               \rHit:5 https://cloud.r-project.org/bin/linux/ubuntu jammy-cran40/ InRelease\n",
            "Hit:6 https://developer.download.nvidia.com/compute/cuda/repos/ubuntu2204/x86_64  InRelease\n",
            "Hit:7 https://r2u.stat.illinois.edu/ubuntu jammy InRelease\n",
            "Hit:8 https://ppa.launchpadcontent.net/deadsnakes/ppa/ubuntu jammy InRelease\n",
            "Hit:9 https://ppa.launchpadcontent.net/graphics-drivers/ppa/ubuntu jammy InRelease\n",
            "Hit:10 https://ppa.launchpadcontent.net/ubuntugis/ppa/ubuntu jammy InRelease\n",
            "Reading package lists... Done\n",
            "W: Skipping acquire of configured file 'main/source/Sources' as repository 'https://r2u.stat.illinois.edu/ubuntu jammy InRelease' does not seem to provide it (sources.list entry misspelt?)\n"
          ]
        }
      ]
    },
    {
      "cell_type": "code",
      "source": [
        "!sudo apt install pdfgrep"
      ],
      "metadata": {
        "colab": {
          "base_uri": "https://localhost:8080/"
        },
        "id": "CEivtB2Znxc8",
        "outputId": "3ca1fb8c-09ef-406a-ea70-f60b861c19af"
      },
      "execution_count": 4,
      "outputs": [
        {
          "output_type": "stream",
          "name": "stdout",
          "text": [
            "Reading package lists... Done\n",
            "Building dependency tree... Done\n",
            "Reading state information... Done\n",
            "pdfgrep is already the newest version (2.1.2-1build1).\n",
            "0 upgraded, 0 newly installed, 0 to remove and 31 not upgraded.\n"
          ]
        }
      ]
    },
    {
      "cell_type": "code",
      "source": [
        "!pdfgrep -- version"
      ],
      "metadata": {
        "colab": {
          "base_uri": "https://localhost:8080/"
        },
        "id": "0FwWj1HMn9iU",
        "outputId": "685aedfb-c95b-40e8-9a34-714cacfc08e0"
      },
      "execution_count": 5,
      "outputs": [
        {
          "output_type": "stream",
          "name": "stdout",
          "text": [
            "Usage: pdfgrep [OPTION]... PATTERN FILE...\n",
            "\n",
            "See 'pdfgrep --help' for more information\n"
          ]
        }
      ]
    },
    {
      "cell_type": "code",
      "source": [
        "!pdfgrep \"sentiment analysis\" \"/content/EL - Q2 2025 Earnings Call 4February2025 830 AM ET CORRECTED TRANSCRIPT - 04-Feb-25.pdf\""
      ],
      "metadata": {
        "id": "qfr9krzUoHaw"
      },
      "execution_count": 6,
      "outputs": []
    },
    {
      "cell_type": "code",
      "source": [
        "import os\n",
        "import PyPDF2\n",
        "import nltk\n",
        "import pandas as pd\n",
        "from nltk.tokenize import word_tokenize\n",
        "from nltk.corpus import stopwords\n",
        "from nltk.sentiment import SentimentIntensityAnalyzer\n",
        "from nltk import FreqDist\n",
        "from nltk.tokenize import sent_tokenize\n",
        "import matplotlib.pyplot as plt\n",
        "from transformers import AutoTokenizer, pipeline"
      ],
      "metadata": {
        "id": "IIWwStTojZl0"
      },
      "execution_count": 7,
      "outputs": []
    },
    {
      "cell_type": "code",
      "source": [],
      "metadata": {
        "id": "WD9_qlX2jZor"
      },
      "execution_count": 8,
      "outputs": []
    },
    {
      "cell_type": "code",
      "source": [
        "# Define the PDF file paths as a dictionary\n",
        "pdf_files = {\n",
        "    \"Q2 2025\": \"/content/EL - Q2 2025 Earnings Call 4February2025 830 AM ET CORRECTED TRANSCRIPT - 04-Feb-25.pdf\",\n",
        "    \"Q4 2021\": \"/content/EL - Q4 2021 Earnings Call 19August2021 930 AM ET CORRECTED TRANSCRIPT - 19-Aug-21.pdf\",\n",
        "    \"Q4 2022\": \"/content/EL - Q4 2022 Earnings Call 18August2022 930 AM ET CORRECTED TRANSCRIPT - 18-Aug-22.pdf\",\n",
        "    \"Q4 2023\": \"/content/EL - Q4 2023 Earnings Call 18August2023 930 AM ET CORRECTED TRANSCRIPT - 18-Aug-23.pdf\",\n",
        "    \"Q4 2024\": \"/content/EL - Q4 2024 Earnings Call 19August2024 930 AM ET CORRECTED TRANSCRIPT - 19-Aug-24.pdf\"\n",
        "}"
      ],
      "metadata": {
        "id": "Zz1y4bRJo52V"
      },
      "execution_count": 20,
      "outputs": []
    },
    {
      "cell_type": "code",
      "source": [
        "# Load FinBERT model and tokenizer\n",
        "tokenizer = AutoTokenizer.from_pretrained(\"ProsusAI/finbert\")\n",
        "sentiment_pipeline = pipeline(\"text-classification\", model=\"ProsusAI/finbert\")\n",
        "\n",
        "# Folder containing earnings call PDFs\n",
        "folder_path = \"/content/sample_data\""
      ],
      "metadata": {
        "colab": {
          "base_uri": "https://localhost:8080/"
        },
        "id": "uhSxcLpAjZrO",
        "outputId": "09825d95-363f-4629-eb09-0fa76760146d"
      },
      "execution_count": 21,
      "outputs": [
        {
          "output_type": "stream",
          "name": "stderr",
          "text": [
            "Device set to use cpu\n"
          ]
        }
      ]
    },
    {
      "cell_type": "code",
      "source": [
        "# Helper: Extract text from PDF\n",
        "def extract_text_from_pdf(path):\n",
        "    text = \"\"\n",
        "    with open(path, \"rb\") as file:\n",
        "        reader = PyPDF2.PdfReader(file)\n",
        "        for page in reader.pages:\n",
        "            text += page.extract_text()\n",
        "    return text\n",
        "\n",
        "# Helper: Preprocess text\n",
        "def preprocess_text(text):\n",
        "    tokens = word_tokenize(text)\n",
        "    words = [word.lower() for word in tokens if word.isalpha()]\n",
        "    stop_words = set(stopwords.words('english'))\n",
        "    return [word for word in words if word not in stop_words]\n",
        "\n",
        "# Helper: Sentiment analysis\n",
        "def analyze_sentiment(tokens):\n",
        "    sia = SentimentIntensityAnalyzer()\n",
        "    pos, neg = 0, 0\n",
        "    for word in tokens:\n",
        "        score = sia.polarity_scores(word)['compound']\n",
        "        if score > 0.05:\n",
        "            pos += 1\n",
        "        elif score < -0.05:\n",
        "            neg += 1\n",
        "    total = len(tokens)\n",
        "    return {\n",
        "        \"Positive %\": (pos / total) * 100 if total else 0,\n",
        "        \"Negative %\": (neg / total) * 100 if total else 0,\n",
        "        \"Total Words\": total,\n",
        "        \"Positive Words\": pos,\n",
        "        \"Negative Words\": neg\n",
        "    }\n",
        "\n"
      ],
      "metadata": {
        "id": "DBhCrwsqjZuH"
      },
      "execution_count": 22,
      "outputs": []
    },
    {
      "cell_type": "code",
      "source": [
        "\n",
        "import os\n",
        "   # ... (rest of your code) ...\n",
        "# Main analysis\n",
        "results = []\n",
        "for label, file_path in pdf_files.items():\n",
        "  print(f\"Processing {label}...\")\n",
        "  full_file_path = os.path.join(folder_path, file_path)\n",
        "  # Check if the file exists before processing\n",
        "  if os.path.exists(full_file_path):\n",
        "    text = extract_text_from_pdf(full_file_path)\n",
        "    tokens = preprocess_text(text)\n",
        "    sentiment = analyze_sentiment(tokens)\n",
        "    freq_dist = FreqDist(tokens)\n",
        "    sentiment[\"Earnings Call\"] = label\n",
        "    sentiment[\"Top 10 Words\"] = freq_dist.most_common(10)\n",
        "    results.append(sentiment)\n",
        "  else:\n",
        "    print(f\"File not found: {full_file_path}\")"
      ],
      "metadata": {
        "colab": {
          "base_uri": "https://localhost:8080/"
        },
        "id": "Hm4vo-WHkSkS",
        "outputId": "133b08ba-a87f-46fd-dafa-63d8ba7215ec"
      },
      "execution_count": 23,
      "outputs": [
        {
          "output_type": "stream",
          "name": "stdout",
          "text": [
            "Processing Q2 2025...\n",
            "Processing Q4 2021...\n",
            "Processing Q4 2022...\n",
            "Processing Q4 2023...\n",
            "Processing Q4 2024...\n",
            "Processing Q2 2025...\n",
            "Processing Q4 2021...\n",
            "Processing Q4 2022...\n",
            "Processing Q4 2023...\n",
            "Processing Q4 2024...\n"
          ]
        }
      ]
    },
    {
      "cell_type": "code",
      "source": [
        "!pip install nltk\n",
        "import nltk\n",
        "nltk.download('punkt_tab')"
      ],
      "metadata": {
        "colab": {
          "base_uri": "https://localhost:8080/"
        },
        "id": "KtJSZt-ujZw2",
        "outputId": "1d158001-9335-4e08-8be1-1069f6608a09"
      },
      "execution_count": 24,
      "outputs": [
        {
          "output_type": "stream",
          "name": "stdout",
          "text": [
            "Requirement already satisfied: nltk in /usr/local/lib/python3.11/dist-packages (3.9.1)\n",
            "Requirement already satisfied: click in /usr/local/lib/python3.11/dist-packages (from nltk) (8.1.8)\n",
            "Requirement already satisfied: joblib in /usr/local/lib/python3.11/dist-packages (from nltk) (1.4.2)\n",
            "Requirement already satisfied: regex>=2021.8.3 in /usr/local/lib/python3.11/dist-packages (from nltk) (2024.11.6)\n",
            "Requirement already satisfied: tqdm in /usr/local/lib/python3.11/dist-packages (from nltk) (4.67.1)\n"
          ]
        },
        {
          "output_type": "stream",
          "name": "stderr",
          "text": [
            "[nltk_data] Downloading package punkt_tab to /root/nltk_data...\n",
            "[nltk_data]   Package punkt_tab is already up-to-date!\n"
          ]
        },
        {
          "output_type": "execute_result",
          "data": {
            "text/plain": [
              "True"
            ]
          },
          "metadata": {},
          "execution_count": 24
        }
      ]
    },
    {
      "cell_type": "code",
      "source": [
        "# Function: Extract Management Discussion and Q&A sections\n",
        "def extract_sections(text):\n",
        "    lines = text.splitlines()\n",
        "    mgmt_text = \"\"\n",
        "    qa_text = \"\"\n",
        "    in_mgmt, in_qa = False, False\n",
        "\n",
        "    for line in lines:\n",
        "        upper_line = line.upper().strip()\n",
        "        if \"MANAGEMENT DISCUSSION\" in upper_line:\n",
        "            in_mgmt, in_qa = True, False\n",
        "            continue\n",
        "        elif \"QUESTION AND ANSWER\" in upper_line:\n",
        "            in_mgmt, in_qa = False, True\n",
        "            continue\n",
        "\n",
        "        if in_mgmt:\n",
        "            mgmt_text += line + \" \"\n",
        "        elif in_qa:\n",
        "            qa_text += line + \" \"\n",
        "\n",
        "    return mgmt_text.strip(), qa_text.strip()\n",
        "\n"
      ],
      "metadata": {
        "id": "Ec3InjyQjZyy"
      },
      "execution_count": 25,
      "outputs": []
    },
    {
      "cell_type": "markdown",
      "source": [],
      "metadata": {
        "id": "_hPSto1KmFjc"
      }
    },
    {
      "cell_type": "code",
      "source": [],
      "metadata": {
        "id": "vHIxUHI5jZ1H"
      },
      "execution_count": 14,
      "outputs": []
    },
    {
      "cell_type": "code",
      "source": [],
      "metadata": {
        "id": "FOieu8J_mFIY"
      },
      "execution_count": null,
      "outputs": []
    },
    {
      "cell_type": "code",
      "source": [
        "# Storage for results\n",
        "section_results = []\n",
        "\n",
        "for label, file_path in pdf_files.items():\n",
        "    print(f\"\\nAnalyzing sections of {label}...\")\n",
        "    # Construct the full file path using os.path.join, ensuring the file path is correct\n",
        "    full_file_path = os.path.join(folder_path, file_path)\n",
        "    # Check if file exists to prevent the error:\n",
        "    if os.path.exists(full_file_path):\n",
        "        raw_text = extract_text_from_pdf(full_file_path)  # Pass the full path to the function\n",
        "        mgmt_text, qa_text = extract_sections(raw_text)\n",
        "\n",
        "        # Process Management Discussion\n",
        "        mgmt_tokens = preprocess_text(mgmt_text)\n",
        "        mgmt_sentiment = analyze_sentiment(mgmt_tokens)\n",
        "        mgmt_freq = FreqDist(mgmt_tokens)\n",
        "\n",
        "        # Process Q&A\n",
        "        qa_tokens = preprocess_text(qa_text)\n",
        "        qa_sentiment = analyze_sentiment(qa_tokens)\n",
        "        qa_freq = FreqDist(qa_tokens)\n",
        "\n",
        "        section_results.append({\n",
        "            \"Earnings Call\": label,\n",
        "            \"Section\": \"Management Discussion\",\n",
        "            **mgmt_sentiment,\n",
        "            \"Top 10 Words\": mgmt_freq.most_common(10)\n",
        "        })\n",
        "\n",
        "        section_results.append({\n",
        "            \"Earnings Call\": label,\n",
        "            \"Section\": \"Q&A\",\n",
        "            **qa_sentiment,\n",
        "            \"Top 10 Words\": qa_freq.most_common(10)\n",
        "        })\n",
        "    else:\n",
        "        print(f\"File not found: {full_file_path}. Please check the file path.\")"
      ],
      "metadata": {
        "colab": {
          "base_uri": "https://localhost:8080/"
        },
        "id": "FHzBOPrGk1-f",
        "outputId": "4684833c-bdd0-4427-97e7-49980e0addf0"
      },
      "execution_count": 26,
      "outputs": [
        {
          "output_type": "stream",
          "name": "stdout",
          "text": [
            "\n",
            "Analyzing sections of Q2 2025...\n",
            "\n",
            "Analyzing sections of Q4 2021...\n",
            "\n",
            "Analyzing sections of Q4 2022...\n",
            "\n",
            "Analyzing sections of Q4 2023...\n",
            "\n",
            "Analyzing sections of Q4 2024...\n"
          ]
        }
      ]
    },
    {
      "cell_type": "code",
      "source": [
        "# Create section-based DataFrame\n",
        "df_sections = pd.DataFrame(section_results)\n",
        "\n",
        "# Output summary\n",
        "print(\"\\n🔍 Section-Level Sentiment Summary:\")\n",
        "print(df_sections)\n",
        "\n",
        "# Save to CSV\n",
        "df_sections.to_csv(\"el_section_sentiment_summary.csv\", index=False)"
      ],
      "metadata": {
        "colab": {
          "base_uri": "https://localhost:8080/"
        },
        "id": "Q5TDHhN4jZ4B",
        "outputId": "2acfdd24-8e41-45da-99e6-71d456978d87"
      },
      "execution_count": 27,
      "outputs": [
        {
          "output_type": "stream",
          "name": "stdout",
          "text": [
            "\n",
            "🔍 Section-Level Sentiment Summary:\n",
            "  Earnings Call                Section  Positive %  Negative %  Total Words  \\\n",
            "0       Q2 2025  Management Discussion   11.841128    1.559020         2694   \n",
            "1       Q2 2025                    Q&A   12.405757    0.959561         2918   \n",
            "2       Q4 2021  Management Discussion   11.156304    1.191168         3442   \n",
            "3       Q4 2021                    Q&A   10.199387    0.843558         2608   \n",
            "4       Q4 2022  Management Discussion   11.983097    1.116813         3313   \n",
            "5       Q4 2022                    Q&A   10.962042    2.028796         3056   \n",
            "6       Q4 2023  Management Discussion   11.520604    1.421938         3446   \n",
            "7       Q4 2023                    Q&A   10.556465    1.309329         2444   \n",
            "8       Q4 2024  Management Discussion   11.224664    1.601090         5871   \n",
            "9       Q4 2024                    Q&A    0.000000    0.000000            0   \n",
            "\n",
            "   Positive Words  Negative Words  \\\n",
            "0             319              42   \n",
            "1             362              28   \n",
            "2             384              41   \n",
            "3             266              22   \n",
            "4             397              37   \n",
            "5             335              62   \n",
            "6             397              49   \n",
            "7             258              32   \n",
            "8             659              94   \n",
            "9               0               0   \n",
            "\n",
            "                                        Top 10 Words  \n",
            "0  [(sales, 42), (growth, 40), (consumer, 30), (q...  \n",
            "1  [(like, 42), (consumer, 33), (us, 32), (estée,...  \n",
            "2  [(year, 67), (sales, 60), (growth, 52), (fisca...  \n",
            "3  [(estée, 28), (lauder, 28), (companies, 28), (...  \n",
            "4  [(growth, 62), (year, 53), (sales, 52), (fisca...  \n",
            "5  [(year, 32), (distribution, 31), (lauder, 29),...  \n",
            "6  [(year, 72), (sales, 70), (growth, 56), (fisca...  \n",
            "7  [(hainan, 20), (business, 19), (estée, 18), (l...  \n",
            "8  [(year, 103), (growth, 94), (sales, 72), (fisc...  \n",
            "9                                                 []  \n"
          ]
        }
      ]
    },
    {
      "cell_type": "code",
      "source": [],
      "metadata": {
        "id": "7l1TpHGLkykr"
      },
      "execution_count": 27,
      "outputs": []
    },
    {
      "cell_type": "code",
      "source": [
        "# Download NLTK tokenizer (if not already installed)\n",
        "nltk.download(\"punkt\")\n",
        "\n",
        "# Load FinBERT model and tokenizer\n",
        "tokenizer = AutoTokenizer.from_pretrained(\"ProsusAI/finbert\")\n",
        "sentiment_pipeline = pipeline(\"text-classification\", model=\"ProsusAI/finbert\")\n",
        "\n",
        "# Folder containing earnings call PDFs\n",
        "folder_path = \"/content/sample_data\"\n",
        "\n"
      ],
      "metadata": {
        "colab": {
          "base_uri": "https://localhost:8080/"
        },
        "id": "_wx6SAx6kyrR",
        "outputId": "632f96b0-5694-4d77-a356-1511c130d2a2"
      },
      "execution_count": 28,
      "outputs": [
        {
          "output_type": "stream",
          "name": "stderr",
          "text": [
            "[nltk_data] Downloading package punkt to /root/nltk_data...\n",
            "[nltk_data]   Package punkt is already up-to-date!\n",
            "Device set to use cpu\n"
          ]
        }
      ]
    },
    {
      "cell_type": "code",
      "source": [
        "# Function to extract text from a PDF file\n",
        "def extract_text_from_pdf(pdf_path):\n",
        "    text = \"\"\n",
        "    with open(pdf_path, \"rb\") as pdf_file:\n",
        "        reader = PyPDF2.PdfReader(pdf_file)\n",
        "        for page in reader.pages:\n",
        "            text += page.extract_text() + \"\\n\"\n",
        "    return text\n",
        "\n",
        "# Function to process sentences safely (truncate if >512 tokens)\n",
        "def analyze_text_with_truncation(text):\n",
        "    tokenized_text = tokenizer.encode(text, truncation=True, max_length=512, return_tensors=\"pt\")\n",
        "    sentiment = sentiment_pipeline(text[:512])[0]  # Only send 512 chars to avoid token mismatch\n",
        "    return sentiment\n",
        "\n"
      ],
      "metadata": {
        "id": "tDdauiqxkyty"
      },
      "execution_count": 29,
      "outputs": []
    },
    {
      "cell_type": "code",
      "source": [
        "# Process each PDF in the folder\n",
        "sentiment_results = []\n",
        "for filename in os.listdir(folder_path):\n",
        "    if filename.endswith(\".pdf\"):\n",
        "        file_path = os.path.join(folder_path, filename)\n",
        "\n",
        "        # Extract text from PDF\n",
        "        transcript_text = extract_text_from_pdf(file_path)\n",
        "        sentences = sent_tokenize(transcript_text)\n",
        "\n",
        "        # Run sentiment analysis with truncation\n",
        "        sentiments = [analyze_text_with_truncation(sentence) for sentence in sentences]\n",
        "\n",
        "        # Count sentiment distribution\n",
        "        sentiment_counts = {\n",
        "            \"positive\": sum(1 for s in sentiments if s[\"label\"] == \"positive\"),\n",
        "            \"neutral\": sum(1 for s in sentiments if s[\"label\"] == \"neutral\"),\n",
        "            \"negative\": sum(1 for s in sentiments if s[\"label\"] == \"negative\")\n",
        "        }\n",
        "\n",
        "        # Store results\n",
        "        sentiment_results.append({\n",
        "            \"Earnings Call\": filename,\n",
        "            \"Positive\": sentiment_counts[\"positive\"],\n",
        "            \"Neutral\": sentiment_counts[\"neutral\"],\n",
        "            \"Negative\": sentiment_counts[\"negative\"],\n",
        "            \"Total Sentences\": len(sentiments),\n",
        "            \"Positive %\": sentiment_counts[\"positive\"] / len(sentiments) * 100,\n",
        "            \"Negative %\": sentiment_counts[\"negative\"] / len(sentiments) * 100\n",
        "        })\n",
        "\n"
      ],
      "metadata": {
        "id": "Jl8pLBBkkyzC"
      },
      "execution_count": 30,
      "outputs": []
    },
    {
      "cell_type": "code",
      "source": [
        "# Convert results to DataFrame\n",
        "df_results = pd.DataFrame(sentiment_results)\n",
        "\n",
        "# 🎨 Plot sensitivity analysis (Positive vs. Negative %)\n",
        "plt.figure(figsize=(10, 5))\n",
        "plt.plot(df_results[\"Earnings Call\"], df_results[\"Positive %\"], marker=\"o\", linestyle=\"-\", label=\"Positive Sentiment (%)\", color=\"green\")\n",
        "plt.plot(df_results[\"Earnings Call\"], df_results[\"Negative %\"], marker=\"s\", linestyle=\"--\", label=\"Negative Sentiment (%)\", color=\"red\")\n",
        "plt.xlabel(\"Earnings Call\")\n",
        "plt.ylabel(\"Sentiment Percentage\")\n",
        "plt.title(\"Sensitivity Analysis of Earnings Call Sentiments (FinBERT)\")\n",
        "plt.xticks(rotation=45)\n",
        "plt.legend()\n",
        "plt.grid()\n",
        "plt.show()\n",
        "\n",
        "# 📊 Print summarized sensitivity results\n",
        "print(df_results)\n"
      ],
      "metadata": {
        "colab": {
          "base_uri": "https://localhost:8080/",
          "height": 418
        },
        "id": "pSGOFu11ky36",
        "outputId": "6bbe41f8-a184-489d-d93f-46490716cfdf"
      },
      "execution_count": 31,
      "outputs": [
        {
          "output_type": "error",
          "ename": "KeyError",
          "evalue": "'Earnings Call'",
          "traceback": [
            "\u001b[0;31m---------------------------------------------------------------------------\u001b[0m",
            "\u001b[0;31mKeyError\u001b[0m                                  Traceback (most recent call last)",
            "\u001b[0;32m<ipython-input-31-eae4e0938598>\u001b[0m in \u001b[0;36m<cell line: 0>\u001b[0;34m()\u001b[0m\n\u001b[1;32m      4\u001b[0m \u001b[0;31m# 🎨 Plot sensitivity analysis (Positive vs. Negative %)\u001b[0m\u001b[0;34m\u001b[0m\u001b[0;34m\u001b[0m\u001b[0m\n\u001b[1;32m      5\u001b[0m \u001b[0mplt\u001b[0m\u001b[0;34m.\u001b[0m\u001b[0mfigure\u001b[0m\u001b[0;34m(\u001b[0m\u001b[0mfigsize\u001b[0m\u001b[0;34m=\u001b[0m\u001b[0;34m(\u001b[0m\u001b[0;36m10\u001b[0m\u001b[0;34m,\u001b[0m \u001b[0;36m5\u001b[0m\u001b[0;34m)\u001b[0m\u001b[0;34m)\u001b[0m\u001b[0;34m\u001b[0m\u001b[0;34m\u001b[0m\u001b[0m\n\u001b[0;32m----> 6\u001b[0;31m \u001b[0mplt\u001b[0m\u001b[0;34m.\u001b[0m\u001b[0mplot\u001b[0m\u001b[0;34m(\u001b[0m\u001b[0mdf_results\u001b[0m\u001b[0;34m[\u001b[0m\u001b[0;34m\"Earnings Call\"\u001b[0m\u001b[0;34m]\u001b[0m\u001b[0;34m,\u001b[0m \u001b[0mdf_results\u001b[0m\u001b[0;34m[\u001b[0m\u001b[0;34m\"Positive %\"\u001b[0m\u001b[0;34m]\u001b[0m\u001b[0;34m,\u001b[0m \u001b[0mmarker\u001b[0m\u001b[0;34m=\u001b[0m\u001b[0;34m\"o\"\u001b[0m\u001b[0;34m,\u001b[0m \u001b[0mlinestyle\u001b[0m\u001b[0;34m=\u001b[0m\u001b[0;34m\"-\"\u001b[0m\u001b[0;34m,\u001b[0m \u001b[0mlabel\u001b[0m\u001b[0;34m=\u001b[0m\u001b[0;34m\"Positive Sentiment (%)\"\u001b[0m\u001b[0;34m,\u001b[0m \u001b[0mcolor\u001b[0m\u001b[0;34m=\u001b[0m\u001b[0;34m\"green\"\u001b[0m\u001b[0;34m)\u001b[0m\u001b[0;34m\u001b[0m\u001b[0;34m\u001b[0m\u001b[0m\n\u001b[0m\u001b[1;32m      7\u001b[0m \u001b[0mplt\u001b[0m\u001b[0;34m.\u001b[0m\u001b[0mplot\u001b[0m\u001b[0;34m(\u001b[0m\u001b[0mdf_results\u001b[0m\u001b[0;34m[\u001b[0m\u001b[0;34m\"Earnings Call\"\u001b[0m\u001b[0;34m]\u001b[0m\u001b[0;34m,\u001b[0m \u001b[0mdf_results\u001b[0m\u001b[0;34m[\u001b[0m\u001b[0;34m\"Negative %\"\u001b[0m\u001b[0;34m]\u001b[0m\u001b[0;34m,\u001b[0m \u001b[0mmarker\u001b[0m\u001b[0;34m=\u001b[0m\u001b[0;34m\"s\"\u001b[0m\u001b[0;34m,\u001b[0m \u001b[0mlinestyle\u001b[0m\u001b[0;34m=\u001b[0m\u001b[0;34m\"--\"\u001b[0m\u001b[0;34m,\u001b[0m \u001b[0mlabel\u001b[0m\u001b[0;34m=\u001b[0m\u001b[0;34m\"Negative Sentiment (%)\"\u001b[0m\u001b[0;34m,\u001b[0m \u001b[0mcolor\u001b[0m\u001b[0;34m=\u001b[0m\u001b[0;34m\"red\"\u001b[0m\u001b[0;34m)\u001b[0m\u001b[0;34m\u001b[0m\u001b[0;34m\u001b[0m\u001b[0m\n\u001b[1;32m      8\u001b[0m \u001b[0mplt\u001b[0m\u001b[0;34m.\u001b[0m\u001b[0mxlabel\u001b[0m\u001b[0;34m(\u001b[0m\u001b[0;34m\"Earnings Call\"\u001b[0m\u001b[0;34m)\u001b[0m\u001b[0;34m\u001b[0m\u001b[0;34m\u001b[0m\u001b[0m\n",
            "\u001b[0;32m/usr/local/lib/python3.11/dist-packages/pandas/core/frame.py\u001b[0m in \u001b[0;36m__getitem__\u001b[0;34m(self, key)\u001b[0m\n\u001b[1;32m   4100\u001b[0m             \u001b[0;32mif\u001b[0m \u001b[0mself\u001b[0m\u001b[0;34m.\u001b[0m\u001b[0mcolumns\u001b[0m\u001b[0;34m.\u001b[0m\u001b[0mnlevels\u001b[0m \u001b[0;34m>\u001b[0m \u001b[0;36m1\u001b[0m\u001b[0;34m:\u001b[0m\u001b[0;34m\u001b[0m\u001b[0;34m\u001b[0m\u001b[0m\n\u001b[1;32m   4101\u001b[0m                 \u001b[0;32mreturn\u001b[0m \u001b[0mself\u001b[0m\u001b[0;34m.\u001b[0m\u001b[0m_getitem_multilevel\u001b[0m\u001b[0;34m(\u001b[0m\u001b[0mkey\u001b[0m\u001b[0;34m)\u001b[0m\u001b[0;34m\u001b[0m\u001b[0;34m\u001b[0m\u001b[0m\n\u001b[0;32m-> 4102\u001b[0;31m             \u001b[0mindexer\u001b[0m \u001b[0;34m=\u001b[0m \u001b[0mself\u001b[0m\u001b[0;34m.\u001b[0m\u001b[0mcolumns\u001b[0m\u001b[0;34m.\u001b[0m\u001b[0mget_loc\u001b[0m\u001b[0;34m(\u001b[0m\u001b[0mkey\u001b[0m\u001b[0;34m)\u001b[0m\u001b[0;34m\u001b[0m\u001b[0;34m\u001b[0m\u001b[0m\n\u001b[0m\u001b[1;32m   4103\u001b[0m             \u001b[0;32mif\u001b[0m \u001b[0mis_integer\u001b[0m\u001b[0;34m(\u001b[0m\u001b[0mindexer\u001b[0m\u001b[0;34m)\u001b[0m\u001b[0;34m:\u001b[0m\u001b[0;34m\u001b[0m\u001b[0;34m\u001b[0m\u001b[0m\n\u001b[1;32m   4104\u001b[0m                 \u001b[0mindexer\u001b[0m \u001b[0;34m=\u001b[0m \u001b[0;34m[\u001b[0m\u001b[0mindexer\u001b[0m\u001b[0;34m]\u001b[0m\u001b[0;34m\u001b[0m\u001b[0;34m\u001b[0m\u001b[0m\n",
            "\u001b[0;32m/usr/local/lib/python3.11/dist-packages/pandas/core/indexes/range.py\u001b[0m in \u001b[0;36mget_loc\u001b[0;34m(self, key)\u001b[0m\n\u001b[1;32m    415\u001b[0m                 \u001b[0;32mraise\u001b[0m \u001b[0mKeyError\u001b[0m\u001b[0;34m(\u001b[0m\u001b[0mkey\u001b[0m\u001b[0;34m)\u001b[0m \u001b[0;32mfrom\u001b[0m \u001b[0merr\u001b[0m\u001b[0;34m\u001b[0m\u001b[0;34m\u001b[0m\u001b[0m\n\u001b[1;32m    416\u001b[0m         \u001b[0;32mif\u001b[0m \u001b[0misinstance\u001b[0m\u001b[0;34m(\u001b[0m\u001b[0mkey\u001b[0m\u001b[0;34m,\u001b[0m \u001b[0mHashable\u001b[0m\u001b[0;34m)\u001b[0m\u001b[0;34m:\u001b[0m\u001b[0;34m\u001b[0m\u001b[0;34m\u001b[0m\u001b[0m\n\u001b[0;32m--> 417\u001b[0;31m             \u001b[0;32mraise\u001b[0m \u001b[0mKeyError\u001b[0m\u001b[0;34m(\u001b[0m\u001b[0mkey\u001b[0m\u001b[0;34m)\u001b[0m\u001b[0;34m\u001b[0m\u001b[0;34m\u001b[0m\u001b[0m\n\u001b[0m\u001b[1;32m    418\u001b[0m         \u001b[0mself\u001b[0m\u001b[0;34m.\u001b[0m\u001b[0m_check_indexing_error\u001b[0m\u001b[0;34m(\u001b[0m\u001b[0mkey\u001b[0m\u001b[0;34m)\u001b[0m\u001b[0;34m\u001b[0m\u001b[0;34m\u001b[0m\u001b[0m\n\u001b[1;32m    419\u001b[0m         \u001b[0;32mraise\u001b[0m \u001b[0mKeyError\u001b[0m\u001b[0;34m(\u001b[0m\u001b[0mkey\u001b[0m\u001b[0;34m)\u001b[0m\u001b[0;34m\u001b[0m\u001b[0;34m\u001b[0m\u001b[0m\n",
            "\u001b[0;31mKeyError\u001b[0m: 'Earnings Call'"
          ]
        },
        {
          "output_type": "display_data",
          "data": {
            "text/plain": [
              "<Figure size 1000x500 with 0 Axes>"
            ]
          },
          "metadata": {}
        }
      ]
    },
    {
      "cell_type": "code",
      "source": [
        "import nltk\n",
        "import os\n",
        "import pandas as pd\n",
        "import matplotlib.pyplot as plt\n",
        "from nltk.tokenize import sent_tokenize\n",
        "from transformers import AutoTokenizer, pipeline\n",
        "from PyPDF2 import PdfReader\n",
        "\n",
        "\n",
        "# Download NLTK tokenizer (if not already installed)\n",
        "nltk.download(\"punkt\")\n",
        "\n",
        "# Load FinBERT model and tokenizer\n",
        "tokenizer = AutoTokenizer.from_pretrained(\"ProsusAI/finbert\")\n",
        "sentiment_pipeline = pipeline(\"text-classification\", model=\"ProsusAI/finbert\")\n",
        "\n",
        "# Folder containing earnings call PDFs\n",
        "folder_path = \"/content/\" # Change to path containing your PDF files\n",
        "pdf_files = {\n",
        "    \"Q2 2025\": \"/content/EL - Q2 2025 Earnings Call 4February2025 830 AM ET CORRECTED TRANSCRIPT - 04-Feb-25.pdf\",\n",
        "    \"Q4 2021\": \"/content/EL - Q4 2021 Earnings Call 19August2021 930 AM ET CORRECTED TRANSCRIPT - 19-Aug-21.pdf\",\n",
        "    \"Q4 2022\": \"/content/EL - Q4 2022 Earnings Call 18August2022 930 AM ET CORRECTED TRANSCRIPT - 18-Aug-22.pdf\",\n",
        "    \"Q4 2023\": \"/content/EL - Q4 2023 Earnings Call 18August2023 930 AM ET CORRECTED TRANSCRIPT - 18-Aug-23.pdf\",\n",
        "    \"Q4 2024\": \"/content/EL - Q4 2024 Earnings Call 19August2024 930 AM ET CORRECTED TRANSCRIPT - 19-Aug-24.pdf\"\n",
        "}\n",
        "\n",
        "# Function to extract text from a PDF file\n",
        "def extract_text_from_pdf(pdf_path):\n",
        "    text = \"\"\n",
        "    with open(pdf_path, \"rb\") as pdf_file:\n",
        "        reader = PdfReader(pdf_file)\n",
        "        for page in reader.pages:\n",
        "            text += page.extract_text() + \"\\n\"\n",
        "    return text\n",
        "\n",
        "# Function to process sentences safely (truncate if >512 tokens)\n",
        "def analyze_text_with_truncation(text):\n",
        "    tokenized_text = tokenizer.encode(text, truncation=True, max_length=512, return_tensors=\"pt\")\n",
        "    sentiment = sentiment_pipeline(text[:512])[0]  # Only send 512 chars to avoid token mismatch\n",
        "    return sentiment\n",
        "\n",
        "# Process each PDF in the folder\n",
        "sentiment_results = []\n",
        "for earnings_call_name, file_path in pdf_files.items():  # Iterate through your PDF files\n",
        "    print(f\"Processing: {earnings_call_name}\")\n",
        "\n",
        "    # Extract text from PDF\n",
        "    transcript_text = extract_text_from_pdf(file_path)\n",
        "    sentences = sent_tokenize(transcript_text)\n",
        "\n",
        "    # Run sentiment analysis with truncation\n",
        "    sentiments = [analyze_text_with_truncation(sentence) for sentence in sentences]\n",
        "\n",
        "    # Count sentiment distribution\n",
        "    sentiment_counts = {\n",
        "        \"positive\": sum(1 for s in sentiments if s[\"label\"] == \"positive\"),\n",
        "        \"neutral\": sum(1 for s in sentiments if s[\"label\"] == \"neutral\"),\n",
        "        \"negative\": sum(1 for s in sentiments if s[\"label\"] == \"negative\")\n",
        "    }\n",
        "\n",
        "    # Store results\n",
        "    sentiment_results.append({\n",
        "        \"Earnings Call\": earnings_call_name,  # Use earnings_call_name here\n",
        "        \"Positive\": sentiment_counts[\"positive\"],\n",
        "        \"Neutral\": sentiment_counts[\"neutral\"],\n",
        "        \"Negative\": sentiment_counts[\"negative\"],\n",
        "        \"Total Sentences\": len(sentiments),\n",
        "        \"Positive %\": sentiment_counts[\"positive\"] / len(sentiments) * 100,\n",
        "        \"Negative %\": sentiment_counts[\"negative\"] / len(sentiments) * 100\n",
        "    })\n",
        "\n",
        "# Convert results to DataFrame\n",
        "df_results = pd.DataFrame(sentiment_results)\n",
        "\n",
        "# 🎨 Plot sensitivity analysis (Positive vs. Negative %)\n",
        "plt.figure(figsize=(10, 5))\n",
        "plt.plot(df_results[\"Earnings Call\"], df_results[\"Positive %\"], marker=\"o\", linestyle=\"-\", label=\"Positive Sentiment (%)\", color=\"green\")\n",
        "plt.plot(df_results[\"Earnings Call\"], df_results[\"Negative %\"], marker=\"s\", linestyle=\"--\", label=\"Negative Sentiment (%)\", color=\"red\")\n",
        "plt.xlabel(\"Earnings Call\")\n",
        "plt.ylabel(\"Sentiment Percentage\")\n",
        "plt.title(\"Sensitivity Analysis of Earnings Call Sentiments (FinBERT)\")\n",
        "plt.xticks(rotation=45)\n",
        "plt.legend()\n",
        "plt.grid()\n",
        "plt.show()\n",
        "\n",
        "# 📊 Print summarized sensitivity results\n",
        "print(df_results)"
      ],
      "metadata": {
        "colab": {
          "base_uri": "https://localhost:8080/",
          "height": 879
        },
        "id": "TisvVU3ArzWy",
        "outputId": "4a4a9ae3-d16d-4017-e78e-6e892bad77eb"
      },
      "execution_count": 33,
      "outputs": [
        {
          "metadata": {
            "tags": null
          },
          "name": "stderr",
          "output_type": "stream",
          "text": [
            "[nltk_data] Downloading package punkt to /root/nltk_data...\n",
            "[nltk_data]   Package punkt is already up-to-date!\n",
            "Device set to use cpu\n"
          ]
        },
        {
          "output_type": "stream",
          "name": "stdout",
          "text": [
            "Processing: Q2 2025\n",
            "Processing: Q4 2021\n",
            "Processing: Q4 2022\n",
            "Processing: Q4 2023\n",
            "Processing: Q4 2024\n"
          ]
        },
        {
          "output_type": "display_data",
          "data": {
            "text/plain": [
              "<Figure size 1000x500 with 1 Axes>"
            ],
            "image/png": "[encoded data removed]"
          },
          "metadata": {}
        },
        {
          "output_type": "stream",
          "name": "stdout",
          "text": [
            "  Earnings Call  Positive  Neutral  Negative  Total Sentences  Positive %  \\\n",
            "0       Q2 2025       156      258        46              460   33.913043   \n",
            "1       Q4 2021       213      264        26              503   42.345924   \n",
            "2       Q4 2022       215      305        64              584   36.815068   \n",
            "3       Q4 2023       195      195        54              444   43.918919   \n",
            "4       Q4 2024       176      199        54              429   41.025641   \n",
            "\n",
            "   Negative %  \n",
            "0   10.000000  \n",
            "1    5.168986  \n",
            "2   10.958904  \n",
            "3   12.162162  \n",
            "4   12.587413  \n"
          ]
        }
      ]
    },
    {
      "cell_type": "code",
      "source": [
        "\n",
        "import csv\n",
        "from nltk.sentiment import SentimentIntensityAnalyzer\n",
        "from nltk.tokenize import sent_tokenize, word_tokenize\n",
        "\n",
        "# ... (Your previous functions for extracting text and preprocessing remain the same) ...\n",
        "\n",
        "def calculate_section_sentiment(text, section_name):\n",
        "    \"\"\"Calculates sentiment for a specific section.\"\"\"\n",
        "    sia = SentimentIntensityAnalyzer()\n",
        "    sentences = sent_tokenize(text)\n",
        "    positive_words = []\n",
        "    negative_words = []\n",
        "    total_score = 0\n",
        "\n",
        "    for sentence in sentences:\n",
        "        score = sia.polarity_scores(sentence)['compound']\n",
        "        total_score += score\n",
        "        words = word_tokenize(sentence)\n",
        "        for word in words:\n",
        "            if sia.polarity_scores(word)['compound'] > 0.05:\n",
        "                positive_words.append(word)\n",
        "            elif sia.polarity_scores(word)['compound'] < -0.05:\n",
        "                negative_words.append(word)\n",
        "\n",
        "    avg_score = total_score / len(sentences) if sentences else 0\n",
        "    return avg_score, positive_words, negative_words\n",
        "\n",
        "# ... (Your code for extracting text from PDF files remains the same) ...\n",
        "\n",
        "# Modify your main analysis loop to include sentiment calculations\n",
        "for label, file_path in pdf_files.items():\n",
        "    print(f\"\\nAnalyzing sections of {label}...\")\n",
        "    # Construct the full file path using os.path.join, ensuring the file path is correct\n",
        "    full_file_path = os.path.join(folder_path, file_path)\n",
        "    if os.path.exists(full_file_path):\n",
        "        raw_text = extract_text_from_pdf(full_file_path)\n",
        "        # ... (Your code for extracting Management Discussion and Q&A remains the same) ...\n",
        "\n",
        "        # Calculate sentiment for Management Discussion and Q&A\n",
        "        md_avg_score, md_positive_words, md_negative_words = calculate_section_sentiment(mgmt_text, \"Management\")\n",
        "        qa_avg_score, qa_positive_words, qa_negative_words = calculate_section_sentiment(qa_text, \"Q&A\")\n",
        "\n",
        "        # ... (The rest of your loop remains the same) ...\n",
        "\n",
        "    else:\n",
        "        print(f\"File not found: {full_file_path}. Please check the file path.\")\n",
        "\n",
        "# ... (The rest of your code remains the same) ...\n",
        "\n",
        "# Now you can write the data to CSV:\n",
        "with open(\"section_sentiment_scores.csv\", \"a\", newline=\"\") as file:\n",
        "    writer = csv.writer(file)\n",
        "    writer.writerow([pdf_files, \"Management\", md_avg_score, len(md_positive_words), len(md_negative_words)])\n",
        "    writer.writerow([pdf_files, \"Q&A\", qa_avg_score, len(qa_positive_words), len(qa_negative_words)])\n",
        "\n"
      ],
      "metadata": {
        "colab": {
          "base_uri": "https://localhost:8080/"
        },
        "id": "XTqga3jnky6G",
        "outputId": "3236f877-8db6-4131-c840-4f1995ab6177"
      },
      "execution_count": 37,
      "outputs": [
        {
          "output_type": "stream",
          "name": "stdout",
          "text": [
            "\n",
            "Analyzing sections of Q2 2025...\n",
            "\n",
            "Analyzing sections of Q4 2021...\n",
            "\n",
            "Analyzing sections of Q4 2022...\n",
            "\n",
            "Analyzing sections of Q4 2023...\n",
            "\n",
            "Analyzing sections of Q4 2024...\n"
          ]
        }
      ]
    },
    {
      "cell_type": "code",
      "source": [
        "# --- Utility Functions ---\n",
        "def extract_text_from_pdf(path):\n",
        "    \"\"\"Extract full text from PDF.\"\"\"\n",
        "    text = \"\"\n",
        "    with open(path, \"rb\") as file:\n",
        "        reader = PyPDF2.PdfReader(file)\n",
        "        for page in reader.pages:\n",
        "            page_text = page.extract_text()\n",
        "            if page_text:\n",
        "                text += page_text\n",
        "    return text\n",
        "\n",
        "def preprocess_text(text):\n",
        "    \"\"\"Tokenize and clean text.\"\"\"\n",
        "    tokens = word_tokenize(text)\n",
        "    words = [word.lower() for word in tokens if word.isalpha()]\n",
        "    stop_words = set(stopwords.words(\"english\"))\n",
        "    return [word for word in words if word not in stop_words]\n",
        "\n",
        "def analyze_sentiment(text):\n",
        "    \"\"\"Run sentence-level sentiment analysis.\"\"\"\n",
        "    sia = SentimentIntensityAnalyzer()\n",
        "    sentences = sent_tokenize(text)\n",
        "    sentiments = []\n",
        "    for sentence in sentences:\n",
        "        score = sia.polarity_scores(sentence)\n",
        "        sentiments.append((sentence, score['compound']))\n",
        "    return sentiments\n",
        "\n",
        "def get_section_sentiment(text, speakers):\n",
        "    \"\"\"Split text by speakers and analyze sentiment by section.\"\"\"\n",
        "    sections = {}\n",
        "    for speaker in speakers:\n",
        "        if speaker in text:\n",
        "            split = text.split(speaker)\n",
        "            text = split[0]\n",
        "            sections[speaker] = split[1] if len(split) > 1 else \"\"\n",
        "    results = []\n",
        "    for speaker, section_text in sections.items():\n",
        "        sentiments = analyze_sentiment(section_text)\n",
        "        avg_sentiment = sum(score for _, score in sentiments) / len(sentiments) if sentiments else 0\n",
        "        results.append({'Section': speaker, 'Sentiment': avg_sentiment})\n",
        "    return results\n",
        "\n",
        "def plot_wordcloud(tokens, title):\n",
        "    wordcloud = WordCloud(width=800, height=400, background_color=\"white\").generate(\" \".join(tokens))\n",
        "    plt.figure(figsize=(10, 5))\n",
        "    plt.imshow(wordcloud, interpolation=\"bilinear\")\n",
        "    plt.axis(\"off\")\n",
        "    plt.title(title)\n",
        "    plt.show()\n",
        "\n"
      ],
      "metadata": {
        "id": "TgK1Yl59plQW"
      },
      "execution_count": 35,
      "outputs": []
    },
    {
      "cell_type": "code",
      "source": [
        "# --- Main Analysis ---\n",
        "results = []\n",
        "section_sentiments_all = []\n",
        "\n",
        "for label, file_path in pdf_files.items():\n",
        "    print(f\"\\n📘 Processing: {label}\")\n",
        "    text = extract_text_from_pdf(file_path)\n",
        "    tokens = preprocess_text(text)\n",
        "    freq_dist = FreqDist(tokens)\n",
        "\n",
        "    # Sentiment Summary\n",
        "    sia = SentimentIntensityAnalyzer()\n",
        "    compound_scores = [sia.polarity_scores(word)['compound'] for word in tokens]\n",
        "    pos = sum(1 for s in compound_scores if s > 0.05)\n",
        "    neg = sum(1 for s in compound_scores if s < -0.05)\n",
        "    total = len(tokens)\n",
        "    results.append({\n",
        "        \"Call\": label,\n",
        "        \"Positive %\": round((pos / total) * 100, 2) if total else 0,\n",
        "        \"Negative %\": round((neg / total) * 100, 2) if total else 0,\n",
        "        \"Word Count\": total\n",
        "    })\n",
        "\n",
        "    # Section sentiment\n",
        "    speakers = [\n",
        "        \"Fabrizio Freda\", \"Tracey Thomas Travis\", \"Operator\",\n",
        "        \"Stephen Powers\", \"Bryan D. Spillane\", \"Lauren R. Lieberman\"\n",
        "    ]\n",
        "    section_sentiment = get_section_sentiment(text, speakers)\n",
        "    for sec in section_sentiment:\n",
        "        sec['Call'] = label\n",
        "    section_sentiments_all.extend(section_sentiment)\n",
        "\n",
        "    # Top Words\n",
        "    print(\"Top 10 Words:\", freq_dist.most_common(10))\n",
        "\n",
        "    # Word Cloud\n",
        "    plot_wordcloud(tokens, f\"Word Cloud - {label}\")\n",
        "\n"
      ],
      "metadata": {
        "colab": {
          "base_uri": "https://localhost:8080/",
          "height": 414
        },
        "id": "iu-GPsLaplTl",
        "outputId": "2f6cfa72-5494-4ff3-c351-ebcfea12fea5"
      },
      "execution_count": 38,
      "outputs": [
        {
          "output_type": "stream",
          "name": "stdout",
          "text": [
            "\n",
            "📘 Processing: Q2 2025\n",
            "Top 10 Words: [('consumer', 63), ('growth', 56), ('estée', 49), ('lauder', 48), ('sales', 47), ('companies', 46), ('like', 46), ('us', 43), ('beauty', 41), ('also', 39)]\n"
          ]
        },
        {
          "output_type": "error",
          "ename": "NameError",
          "evalue": "name 'WordCloud' is not defined",
          "traceback": [
            "\u001b[0;31m---------------------------------------------------------------------------\u001b[0m",
            "\u001b[0;31mNameError\u001b[0m                                 Traceback (most recent call last)",
            "\u001b[0;32m<ipython-input-38-cb1ec593d701>\u001b[0m in \u001b[0;36m<cell line: 0>\u001b[0;34m()\u001b[0m\n\u001b[1;32m     36\u001b[0m \u001b[0;34m\u001b[0m\u001b[0m\n\u001b[1;32m     37\u001b[0m     \u001b[0;31m# Word Cloud\u001b[0m\u001b[0;34m\u001b[0m\u001b[0;34m\u001b[0m\u001b[0m\n\u001b[0;32m---> 38\u001b[0;31m     \u001b[0mplot_wordcloud\u001b[0m\u001b[0;34m(\u001b[0m\u001b[0mtokens\u001b[0m\u001b[0;34m,\u001b[0m \u001b[0;34mf\"Word Cloud - {label}\"\u001b[0m\u001b[0;34m)\u001b[0m\u001b[0;34m\u001b[0m\u001b[0;34m\u001b[0m\u001b[0m\n\u001b[0m\u001b[1;32m     39\u001b[0m \u001b[0;34m\u001b[0m\u001b[0m\n",
            "\u001b[0;32m<ipython-input-35-4287328da23c>\u001b[0m in \u001b[0;36mplot_wordcloud\u001b[0;34m(tokens, title)\u001b[0m\n\u001b[1;32m     44\u001b[0m \u001b[0;34m\u001b[0m\u001b[0m\n\u001b[1;32m     45\u001b[0m \u001b[0;32mdef\u001b[0m \u001b[0mplot_wordcloud\u001b[0m\u001b[0;34m(\u001b[0m\u001b[0mtokens\u001b[0m\u001b[0;34m,\u001b[0m \u001b[0mtitle\u001b[0m\u001b[0;34m)\u001b[0m\u001b[0;34m:\u001b[0m\u001b[0;34m\u001b[0m\u001b[0;34m\u001b[0m\u001b[0m\n\u001b[0;32m---> 46\u001b[0;31m     \u001b[0mwordcloud\u001b[0m \u001b[0;34m=\u001b[0m \u001b[0mWordCloud\u001b[0m\u001b[0;34m(\u001b[0m\u001b[0mwidth\u001b[0m\u001b[0;34m=\u001b[0m\u001b[0;36m800\u001b[0m\u001b[0;34m,\u001b[0m \u001b[0mheight\u001b[0m\u001b[0;34m=\u001b[0m\u001b[0;36m400\u001b[0m\u001b[0;34m,\u001b[0m \u001b[0mbackground_color\u001b[0m\u001b[0;34m=\u001b[0m\u001b[0;34m\"white\"\u001b[0m\u001b[0;34m)\u001b[0m\u001b[0;34m.\u001b[0m\u001b[0mgenerate\u001b[0m\u001b[0;34m(\u001b[0m\u001b[0;34m\" \"\u001b[0m\u001b[0;34m.\u001b[0m\u001b[0mjoin\u001b[0m\u001b[0;34m(\u001b[0m\u001b[0mtokens\u001b[0m\u001b[0;34m)\u001b[0m\u001b[0;34m)\u001b[0m\u001b[0;34m\u001b[0m\u001b[0;34m\u001b[0m\u001b[0m\n\u001b[0m\u001b[1;32m     47\u001b[0m     \u001b[0mplt\u001b[0m\u001b[0;34m.\u001b[0m\u001b[0mfigure\u001b[0m\u001b[0;34m(\u001b[0m\u001b[0mfigsize\u001b[0m\u001b[0;34m=\u001b[0m\u001b[0;34m(\u001b[0m\u001b[0;36m10\u001b[0m\u001b[0;34m,\u001b[0m \u001b[0;36m5\u001b[0m\u001b[0;34m)\u001b[0m\u001b[0;34m)\u001b[0m\u001b[0;34m\u001b[0m\u001b[0;34m\u001b[0m\u001b[0m\n\u001b[1;32m     48\u001b[0m     \u001b[0mplt\u001b[0m\u001b[0;34m.\u001b[0m\u001b[0mimshow\u001b[0m\u001b[0;34m(\u001b[0m\u001b[0mwordcloud\u001b[0m\u001b[0;34m,\u001b[0m \u001b[0minterpolation\u001b[0m\u001b[0;34m=\u001b[0m\u001b[0;34m\"bilinear\"\u001b[0m\u001b[0;34m)\u001b[0m\u001b[0;34m\u001b[0m\u001b[0;34m\u001b[0m\u001b[0m\n",
            "\u001b[0;31mNameError\u001b[0m: name 'WordCloud' is not defined"
          ]
        }
      ]
    },
    {
      "cell_type": "code",
      "source": [
        "# --- Summary DataFrames ---\n",
        "df_summary = pd.DataFrame(results)\n",
        "df_sections = pd.DataFrame(section_sentiments_all)\n",
        "\n"
      ],
      "metadata": {
        "id": "UEMJEjAEplV9"
      },
      "execution_count": 39,
      "outputs": []
    },
    {
      "cell_type": "code",
      "source": [
        "!pip install seaborn\n",
        "import seaborn as sns\n",
        "\n",
        "# --- Visualizations ---\n",
        "# Sentiment summary plot\n",
        "plt.figure(figsize=(10, 6))\n",
        "sns.barplot(data=df_summary.melt(id_vars=\"Call\", value_vars=[\"Positive %\", \"Negative %\"]),\n",
        "            x=\"Call\", y=\"value\", hue=\"variable\")\n",
        "plt.title(\"📊 Sentiment Summary by Earnings Call\")\n",
        "plt.ylabel(\"Percentage\")\n",
        "plt.show()\n",
        "\n",
        "# Section sentiment plot\n",
        "plt.figure(figsize=(12, 6))\n",
        "sns.barplot(data=df_sections, x=\"Section\", y=\"Sentiment\", hue=\"Call\")\n",
        "plt.xticks(rotation=45)\n",
        "plt.title(\"📊 Sentiment by Speaker Section\")\n",
        "plt.show()\n",
        "\n",
        "# Save summary\n",
        "df_summary.to_csv(\"summary_sentiment.csv\", index=False)\n",
        "df_sections.to_csv(\"section_sentiment.csv\", index=False)"
      ],
      "metadata": {
        "colab": {
          "base_uri": "https://localhost:8080/",
          "height": 1000
        },
        "id": "RkSVrM8tplXo",
        "outputId": "b76b443e-57a5-4afc-ad6a-6d80fc6deea9"
      },
      "execution_count": 45,
      "outputs": [
        {
          "output_type": "stream",
          "name": "stdout",
          "text": [
            "Requirement already satisfied: seaborn in /usr/local/lib/python3.11/dist-packages (0.13.2)\n",
            "Requirement already satisfied: numpy!=1.24.0,>=1.20 in /usr/local/lib/python3.11/dist-packages (from seaborn) (2.0.2)\n",
            "Requirement already satisfied: pandas>=1.2 in /usr/local/lib/python3.11/dist-packages (from seaborn) (2.2.2)\n",
            "Requirement already satisfied: matplotlib!=3.6.1,>=3.4 in /usr/local/lib/python3.11/dist-packages (from seaborn) (3.10.0)\n",
            "Requirement already satisfied: contourpy>=1.0.1 in /usr/local/lib/python3.11/dist-packages (from matplotlib!=3.6.1,>=3.4->seaborn) (1.3.1)\n",
            "Requirement already satisfied: cycler>=0.10 in /usr/local/lib/python3.11/dist-packages (from matplotlib!=3.6.1,>=3.4->seaborn) (0.12.1)\n",
            "Requirement already satisfied: fonttools>=4.22.0 in /usr/local/lib/python3.11/dist-packages (from matplotlib!=3.6.1,>=3.4->seaborn) (4.57.0)\n",
            "Requirement already satisfied: kiwisolver>=1.3.1 in /usr/local/lib/python3.11/dist-packages (from matplotlib!=3.6.1,>=3.4->seaborn) (1.4.8)\n",
            "Requirement already satisfied: packaging>=20.0 in /usr/local/lib/python3.11/dist-packages (from matplotlib!=3.6.1,>=3.4->seaborn) (24.2)\n",
            "Requirement already satisfied: pillow>=8 in /usr/local/lib/python3.11/dist-packages (from matplotlib!=3.6.1,>=3.4->seaborn) (11.1.0)\n",
            "Requirement already satisfied: pyparsing>=2.3.1 in /usr/local/lib/python3.11/dist-packages (from matplotlib!=3.6.1,>=3.4->seaborn) (3.2.3)\n",
            "Requirement already satisfied: python-dateutil>=2.7 in /usr/local/lib/python3.11/dist-packages (from matplotlib!=3.6.1,>=3.4->seaborn) (2.8.2)\n",
            "Requirement already satisfied: pytz>=2020.1 in /usr/local/lib/python3.11/dist-packages (from pandas>=1.2->seaborn) (2025.2)\n",
            "Requirement already satisfied: tzdata>=2022.7 in /usr/local/lib/python3.11/dist-packages (from pandas>=1.2->seaborn) (2025.2)\n",
            "Requirement already satisfied: six>=1.5 in /usr/local/lib/python3.11/dist-packages (from python-dateutil>=2.7->matplotlib!=3.6.1,>=3.4->seaborn) (1.17.0)\n"
          ]
        },
        {
          "output_type": "stream",
          "name": "stderr",
          "text": [
            "/usr/local/lib/python3.11/dist-packages/IPython/core/pylabtools.py:151: UserWarning: Glyph 128202 (\\N{BAR CHART}) missing from font(s) DejaVu Sans.\n",
            "  fig.canvas.print_figure(bytes_io, **kw)\n"
          ]
        },
        {
          "output_type": "display_data",
          "data": {
            "text/plain": [
              "<Figure size 1000x600 with 1 Axes>"
            ],
            "image/png": "[encoded data removed]"
          },
          "metadata": {}
        },
        {
          "output_type": "stream",
          "name": "stderr",
          "text": [
            "/usr/local/lib/python3.11/dist-packages/IPython/core/pylabtools.py:151: UserWarning: Glyph 128202 (\\N{BAR CHART}) missing from font(s) DejaVu Sans.\n",
            "  fig.canvas.print_figure(bytes_io, **kw)\n"
          ]
        },
        {
          "output_type": "display_data",
          "data": {
            "text/plain": [
              "<Figure size 1200x600 with 1 Axes>"
            ],
            "image/png": "[encoded data removed]"
          },
          "metadata": {}
        }
      ]
    },
    {
      "cell_type": "code",
      "source": [
        "from transformers import AutoTokenizer, AutoModelForSequenceClassification\n",
        "import torch\n",
        "import numpy as np\n"
      ],
      "metadata": {
        "id": "MP_3EtG0plaw"
      },
      "execution_count": 46,
      "outputs": []
    },
    {
      "cell_type": "code",
      "source": [
        "# Load FinBERT sentiment model from HuggingFace\n",
        "tokenizer = AutoTokenizer.from_pretrained(\"yiyanghkust/finbert-tone\")\n",
        "model = AutoModelForSequenceClassification.from_pretrained(\"yiyanghkust/finbert-tone\")\n"
      ],
      "metadata": {
        "id": "w4LiFZAcpxok"
      },
      "execution_count": 47,
      "outputs": []
    },
    {
      "cell_type": "code",
      "source": [
        "def analyze_sentiment_finbert(text, max_sentences=100):\n",
        "    \"\"\"Analyze sentiment using FinBERT over sentence slices.\"\"\"\n",
        "    sentences = sent_tokenize(text)\n",
        "    sentiments = {\"positive\": 0, \"negative\": 0, \"neutral\": 0}\n",
        "\n",
        "    for sentence in sentences[:max_sentences]:  # limit for speed\n",
        "        inputs = tokenizer(sentence, return_tensors=\"pt\", truncation=True, padding=True)\n",
        "        with torch.no_grad():\n",
        "            outputs = model(**inputs)\n",
        "        probs = torch.nn.functional.softmax(outputs.logits, dim=-1)\n",
        "        sentiment_idx = torch.argmax(probs).item()\n",
        "        sentiment_label = [\"positive\", \"negative\", \"neutral\"][sentiment_idx]\n",
        "        sentiments[sentiment_label] += 1\n",
        "\n",
        "    total = sum(sentiments.values())\n",
        "    return {\n",
        "        \"FinBERT Positive %\": round((sentiments[\"positive\"] / total) * 100, 2) if total else 0,\n",
        "        \"FinBERT Negative %\": round((sentiments[\"negative\"] / total) * 100, 2) if total else 0,\n",
        "        \"FinBERT Neutral %\": round((sentiments[\"neutral\"] / total) * 100, 2) if total else 0,\n",
        "        \"Sentence Count\": total\n",
        "    }\n"
      ],
      "metadata": {
        "id": "tjj_9itQpxrL"
      },
      "execution_count": 48,
      "outputs": []
    },
    {
      "cell_type": "code",
      "source": [
        "def analyze_sentiment_finbert(text, max_sentences=100, max_length=512):  # Add max_length\n",
        "    \"\"\"Analyze sentiment using FinBERT over sentence slices.\"\"\"\n",
        "    sentences = sent_tokenize(text)\n",
        "    sentiments = {\"positive\": 0, \"negative\": 0, \"neutral\": 0}\n",
        "\n",
        "    for sentence in sentences[:max_sentences]:  # limit for speed\n",
        "        # Truncate or pad the sentence to max_length\n",
        "        inputs = tokenizer(sentence, return_tensors=\"pt\", truncation=True,\n",
        "                           padding=\"max_length\", max_length=max_length)  # Updated line\n",
        "        with torch.no_grad():\n",
        "            outputs = model(**inputs)\n",
        "        probs = torch.nn.functional.softmax(outputs.logits, dim=-1)\n",
        "        sentiment_idx = torch.argmax(probs).item()\n",
        "        sentiment_label = [\"positive\", \"negative\", \"neutral\"][sentiment_idx]\n",
        "        sentiments[sentiment_label] += 1\n",
        "\n",
        "    total = sum(sentiments.values())\n",
        "    return {\n",
        "        \"FinBERT Positive %\": round((sentiments[\"positive\"] / total) * 100, 2) if total else 0,\n",
        "        \"FinBERT Negative %\": round((sentiments[\"negative\"] / total) * 100, 2) if total else 0,\n",
        "        \"FinBERT Neutral %\": round((sentiments[\"neutral\"] / total) * 100, 2) if total else 0,\n",
        "        \"Sentence Count\": total\n",
        "    }"
      ],
      "metadata": {
        "id": "4luQAGDxvYpd"
      },
      "execution_count": 50,
      "outputs": []
    },
    {
      "cell_type": "code",
      "source": [
        "!pip install transformers torch pandas nltk seaborn matplotlib\n",
        "import nltk\n",
        "import os\n",
        "import pandas as pd\n",
        "import matplotlib.pyplot as plt\n",
        "from nltk.tokenize import sent_tokenize\n",
        "from transformers import AutoTokenizer, AutoModelForSequenceClassification\n",
        "import torch\n",
        "import seaborn as sns\n",
        "\n",
        "# Download NLTK tokenizer (if not already installed)\n",
        "nltk.download(\"punkt\")\n",
        "\n",
        "# Load FinBERT sentiment model from HuggingFace\n",
        "tokenizer = AutoTokenizer.from_pretrained(\"yiyanghkust/finbert-tone\")\n",
        "model = AutoModelForSequenceClassification.from_pretrained(\"yiyanghkust/finbert-tone\")\n",
        "\n",
        "# Function to extract text from a PDF file (You'll need to define this function)\n",
        "def extract_text_from_pdf(pdf_path):\n",
        "    \"\"\"Extract full text from PDF.\"\"\"\n",
        "    # Your code to extract text using PyPDF2 or similar library\n",
        "    # This is a placeholder; replace with your actual extraction logic\n",
        "    # ...\n",
        "    return text\n",
        "\n",
        "# Function to analyze sentiment using FinBERT\n",
        "def analyze_sentiment_finbert(text, max_sentences=100, max_length=512):\n",
        "    \"\"\"Analyze sentiment using FinBERT over sentence slices.\"\"\"\n",
        "    sentences = sent_tokenize(text)\n",
        "    sentiments = {\"positive\": 0, \"negative\": 0, \"neutral\": 0}\n",
        "\n",
        "    for sentence in sentences[:max_sentences]:  # limit for speed\n",
        "        # Truncate or pad the sentence to max_length\n",
        "        inputs = tokenizer(sentence, return_tensors=\"pt\", truncation=True,\n",
        "                           padding=\"max_length\", max_length=max_length)  # Updated line\n",
        "        with torch.no_grad():\n",
        "            outputs = model(**inputs)\n",
        "        probs = torch.nn.functional.softmax(outputs.logits, dim=-1)\n",
        "        sentiment_idx = torch.argmax(probs).item()\n",
        "        sentiment_label = [\"positive\", \"negative\", \"neutral\"][sentiment_idx]\n",
        "        sentiments[sentiment_label] += 1\n",
        "\n",
        "    total = sum(sentiments.values())\n",
        "    return {\n",
        "        \"FinBERT Positive %\": round((sentiments[\"positive\"] / total) * 100, 2) if total else 0,\n",
        "        \"FinBERT Negative %\": round((sentiments[\"negative\"] / total) * 100, 2) if total else 0,\n",
        "        \"FinBERT Neutral %\": round((sentiments[\"neutral\"] / total) * 100, 2) if total else 0,\n",
        "        \"Sentence Count\": total\n",
        "    }\n",
        "\n",
        "# Folder containing earnings call PDFs (Update with your actual path)\n",
        "folder_path = \"/content/\"\n",
        "pdf_files = {\n",
        "    \"Q2 2025\": \"/content/EL - Q2 2025 Earnings Call 4February2025 830 AM ET CORRECTED TRANSCRIPT - 04-Feb-25.pdf\",\n",
        "    \"Q4 2021\": \"/content/EL - Q4 2021 Earnings Call 19August2021 930 AM ET CORRECTED TRANSCRIPT - 19-Aug-21.pdf\",\n",
        "    \"Q4 2022\": \"/content/EL - Q4 2022 Earnings Call 18August2022 930 AM ET CORRECTED TRANSCRIPT - 18-Aug-22.pdf\",\n",
        "    \"Q4 2023\": \"/content/EL - Q4 2023 Earnings Call 18August2023 930 AM ET CORRECTED TRANSCRIPT - 18-Aug-23.pdf\",\n",
        "    \"Q4 2024\": \"/content/EL - Q4 2024 Earnings Call 19August2024 930 AM ET CORRECTED TRANSCRIPT - 19-Aug-24.pdf\"\n",
        "}\n",
        "\n",
        "# Process each PDF and store results\n",
        "finbert_results = []\n",
        "for label, file_path in pdf_files.items():\n",
        "    text = extract_text_from_pdf(file_path)  # Replace with your text extraction logic\n",
        "    sentiment = analyze_sentiment_finbert(text)\n",
        "    sentiment[\"Call\"] = label  # Add the label to the sentiment dictionary\n",
        "    finbert_results.append(sentiment)\n",
        "\n",
        "# Create DataFrame from results\n",
        "df_finbert = pd.DataFrame(finbert_results)\n",
        "\n",
        "# Now you can use df_finbert in your plotting code:\n",
        "plt.figure(figsize=(10, 6))\n",
        "melted = df_finbert.melt(id_vars=\"Call\", value_vars=[\"FinBERT Positive %\", \"FinBERT Negative %\", \"FinBERT Neutral %\"])\n",
        "sns.barplot(data=melted, x=\"Call\", y=\"value\", hue=\"variable\")\n",
        "plt.title(\"💡 FinBERT Sentiment Breakdown by Earnings Call\")\n",
        "plt.ylabel(\"Percentage\")\n",
        "plt.xticks(rotation=45)\n",
        "plt.show()"
      ],
      "metadata": {
        "colab": {
          "base_uri": "https://localhost:8080/",
          "height": 1000
        },
        "id": "_dfE4LNUpxtb",
        "outputId": "eb672076-e483-4424-f3ca-6364071c8356"
      },
      "execution_count": 54,
      "outputs": [
        {
          "metadata": {
            "tags": null
          },
          "name": "stdout",
          "output_type": "stream",
          "text": [
            "Requirement already satisfied: transformers in /usr/local/lib/python3.11/dist-packages (4.50.3)\n",
            "Requirement already satisfied: torch in /usr/local/lib/python3.11/dist-packages (2.6.0+cu124)\n",
            "Requirement already satisfied: pandas in /usr/local/lib/python3.11/dist-packages (2.2.2)\n",
            "Requirement already satisfied: nltk in /usr/local/lib/python3.11/dist-packages (3.9.1)\n",
            "Requirement already satisfied: seaborn in /usr/local/lib/python3.11/dist-packages (0.13.2)\n",
            "Requirement already satisfied: matplotlib in /usr/local/lib/python3.11/dist-packages (3.10.0)\n",
            "Requirement already satisfied: filelock in /usr/local/lib/python3.11/dist-packages (from transformers) (3.18.0)\n",
            "Requirement already satisfied: huggingface-hub<1.0,>=0.26.0 in /usr/local/lib/python3.11/dist-packages (from transformers) (0.30.1)\n",
            "Requirement already satisfied: numpy>=1.17 in /usr/local/lib/python3.11/dist-packages (from transformers) (2.0.2)\n",
            "Requirement already satisfied: packaging>=20.0 in /usr/local/lib/python3.11/dist-packages (from transformers) (24.2)\n",
            "Requirement already satisfied: pyyaml>=5.1 in /usr/local/lib/python3.11/dist-packages (from transformers) (6.0.2)\n",
            "Requirement already satisfied: regex!=2019.12.17 in /usr/local/lib/python3.11/dist-packages (from transformers) (2024.11.6)\n",
            "Requirement already satisfied: requests in /usr/local/lib/python3.11/dist-packages (from transformers) (2.32.3)\n",
            "Requirement already satisfied: tokenizers<0.22,>=0.21 in /usr/local/lib/python3.11/dist-packages (from transformers) (0.21.1)\n",
            "Requirement already satisfied: safetensors>=0.4.3 in /usr/local/lib/python3.11/dist-packages (from transformers) (0.5.3)\n",
            "Requirement already satisfied: tqdm>=4.27 in /usr/local/lib/python3.11/dist-packages (from transformers) (4.67.1)\n",
            "Requirement already satisfied: typing-extensions>=4.10.0 in /usr/local/lib/python3.11/dist-packages (from torch) (4.13.1)\n",
            "Requirement already satisfied: networkx in /usr/local/lib/python3.11/dist-packages (from torch) (3.4.2)\n",
            "Requirement already satisfied: jinja2 in /usr/local/lib/python3.11/dist-packages (from torch) (3.1.6)\n",
            "Requirement already satisfied: fsspec in /usr/local/lib/python3.11/dist-packages (from torch) (2025.3.2)\n",
            "Requirement already satisfied: nvidia-cuda-nvrtc-cu12==12.4.127 in /usr/local/lib/python3.11/dist-packages (from torch) (12.4.127)\n",
            "Requirement already satisfied: nvidia-cuda-runtime-cu12==12.4.127 in /usr/local/lib/python3.11/dist-packages (from torch) (12.4.127)\n",
            "Requirement already satisfied: nvidia-cuda-cupti-cu12==12.4.127 in /usr/local/lib/python3.11/dist-packages (from torch) (12.4.127)\n",
            "Requirement already satisfied: nvidia-cudnn-cu12==9.1.0.70 in /usr/local/lib/python3.11/dist-packages (from torch) (9.1.0.70)\n",
            "Requirement already satisfied: nvidia-cublas-cu12==12.4.5.8 in /usr/local/lib/python3.11/dist-packages (from torch) (12.4.5.8)\n",
            "Requirement already satisfied: nvidia-cufft-cu12==11.2.1.3 in /usr/local/lib/python3.11/dist-packages (from torch) (11.2.1.3)\n",
            "Requirement already satisfied: nvidia-curand-cu12==10.3.5.147 in /usr/local/lib/python3.11/dist-packages (from torch) (10.3.5.147)\n",
            "Requirement already satisfied: nvidia-cusolver-cu12==11.6.1.9 in /usr/local/lib/python3.11/dist-packages (from torch) (11.6.1.9)\n",
            "Requirement already satisfied: nvidia-cusparse-cu12==12.3.1.170 in /usr/local/lib/python3.11/dist-packages (from torch) (12.3.1.170)\n",
            "Requirement already satisfied: nvidia-cusparselt-cu12==0.6.2 in /usr/local/lib/python3.11/dist-packages (from torch) (0.6.2)\n",
            "Requirement already satisfied: nvidia-nccl-cu12==2.21.5 in /usr/local/lib/python3.11/dist-packages (from torch) (2.21.5)\n",
            "Requirement already satisfied: nvidia-nvtx-cu12==12.4.127 in /usr/local/lib/python3.11/dist-packages (from torch) (12.4.127)\n",
            "Requirement already satisfied: nvidia-nvjitlink-cu12==12.4.127 in /usr/local/lib/python3.11/dist-packages (from torch) (12.4.127)\n",
            "Requirement already satisfied: triton==3.2.0 in /usr/local/lib/python3.11/dist-packages (from torch) (3.2.0)\n",
            "Requirement already satisfied: sympy==1.13.1 in /usr/local/lib/python3.11/dist-packages (from torch) (1.13.1)\n",
            "Requirement already satisfied: mpmath<1.4,>=1.1.0 in /usr/local/lib/python3.11/dist-packages (from sympy==1.13.1->torch) (1.3.0)\n",
            "Requirement already satisfied: python-dateutil>=2.8.2 in /usr/local/lib/python3.11/dist-packages (from pandas) (2.8.2)\n",
            "Requirement already satisfied: pytz>=2020.1 in /usr/local/lib/python3.11/dist-packages (from pandas) (2025.2)\n",
            "Requirement already satisfied: tzdata>=2022.7 in /usr/local/lib/python3.11/dist-packages (from pandas) (2025.2)\n",
            "Requirement already satisfied: click in /usr/local/lib/python3.11/dist-packages (from nltk) (8.1.8)\n",
            "Requirement already satisfied: joblib in /usr/local/lib/python3.11/dist-packages (from nltk) (1.4.2)\n",
            "Requirement already satisfied: contourpy>=1.0.1 in /usr/local/lib/python3.11/dist-packages (from matplotlib) (1.3.1)\n",
            "Requirement already satisfied: cycler>=0.10 in /usr/local/lib/python3.11/dist-packages (from matplotlib) (0.12.1)\n",
            "Requirement already satisfied: fonttools>=4.22.0 in /usr/local/lib/python3.11/dist-packages (from matplotlib) (4.57.0)\n",
            "Requirement already satisfied: kiwisolver>=1.3.1 in /usr/local/lib/python3.11/dist-packages (from matplotlib) (1.4.8)\n",
            "Requirement already satisfied: pillow>=8 in /usr/local/lib/python3.11/dist-packages (from matplotlib) (11.1.0)\n",
            "Requirement already satisfied: pyparsing>=2.3.1 in /usr/local/lib/python3.11/dist-packages (from matplotlib) (3.2.3)\n",
            "Requirement already satisfied: six>=1.5 in /usr/local/lib/python3.11/dist-packages (from python-dateutil>=2.8.2->pandas) (1.17.0)\n",
            "Requirement already satisfied: MarkupSafe>=2.0 in /usr/local/lib/python3.11/dist-packages (from jinja2->torch) (3.0.2)\n",
            "Requirement already satisfied: charset-normalizer<4,>=2 in /usr/local/lib/python3.11/dist-packages (from requests->transformers) (3.4.1)\n",
            "Requirement already satisfied: idna<4,>=2.5 in /usr/local/lib/python3.11/dist-packages (from requests->transformers) (3.10)\n",
            "Requirement already satisfied: urllib3<3,>=1.21.1 in /usr/local/lib/python3.11/dist-packages (from requests->transformers) (2.3.0)\n",
            "Requirement already satisfied: certifi>=2017.4.17 in /usr/local/lib/python3.11/dist-packages (from requests->transformers) (2025.1.31)\n"
          ]
        },
        {
          "output_type": "stream",
          "name": "stderr",
          "text": [
            "[nltk_data] Downloading package punkt to /root/nltk_data...\n",
            "[nltk_data]   Package punkt is already up-to-date!\n",
            "/usr/local/lib/python3.11/dist-packages/IPython/core/pylabtools.py:151: UserWarning: Glyph 128161 (\\N{ELECTRIC LIGHT BULB}) missing from font(s) DejaVu Sans.\n",
            "  fig.canvas.print_figure(bytes_io, **kw)\n"
          ]
        },
        {
          "output_type": "display_data",
          "data": {
            "text/plain": [
              "<Figure size 1000x600 with 1 Axes>"
            ],
            "image/png": "[encoded data removed]"
          },
          "metadata": {}
        }
      ]
    },
    {
      "cell_type": "code",
      "source": [
        "plt.figure(figsize=(10, 6))\n",
        "melted = df_finbert.melt(id_vars=\"Call\", value_vars=[\"FinBERT Positive %\", \"FinBERT Negative %\", \"FinBERT Neutral %\"])\n",
        "sns.barplot(data=melted, x=\"Call\", y=\"value\", hue=\"variable\")\n",
        "plt.title(\"💡 FinBERT Sentiment Breakdown by Earnings Call\")\n",
        "plt.ylabel(\"Percentage\")\n",
        "plt.xticks(rotation=45)\n",
        "plt.show()\n"
      ],
      "metadata": {
        "colab": {
          "base_uri": "https://localhost:8080/",
          "height": 633
        },
        "id": "5nifralwpxwC",
        "outputId": "7a5e6bbe-e774-4378-d61c-ad384a481168"
      },
      "execution_count": 55,
      "outputs": [
        {
          "output_type": "stream",
          "name": "stderr",
          "text": [
            "/usr/local/lib/python3.11/dist-packages/IPython/core/pylabtools.py:151: UserWarning: Glyph 128161 (\\N{ELECTRIC LIGHT BULB}) missing from font(s) DejaVu Sans.\n",
            "  fig.canvas.print_figure(bytes_io, **kw)\n"
          ]
        },
        {
          "output_type": "display_data",
          "data": {
            "text/plain": [
              "<Figure size 1000x600 with 1 Axes>"
            ],
            "image/png": "[encoded data removed]"
          },
          "metadata": {}
        }
      ]
    },
    {
      "cell_type": "code",
      "source": [
        "# Example returns data (replace with actual values)\n",
        "stock_returns = {\n",
        "    \"Q1\": {\"Call\": \"Q4 2023\", \"1D Return\": -2.1, \"3D Return\": -3.5, \"1W Return\": -1.2},\n",
        "    \"Q2\": {\"Call\": \"Q4 2024\", \"1D Return\": 1.5, \"3D Return\": 2.3, \"1W Return\": 4.0},\n",
        "    # Add Q3, Q4, Q5 as you analyze more calls\n",
        "}\n"
      ],
      "metadata": {
        "id": "8ATZcv_ip5xo"
      },
      "execution_count": 56,
      "outputs": []
    },
    {
      "cell_type": "code",
      "source": [
        "# Merge FinBERT sentiment with stock returns\n",
        "final_table = []\n",
        "\n",
        "for i, row in df_finbert.iterrows():\n",
        "    q_label = f\"Q{i+1}\"\n",
        "    stock_data = stock_returns.get(q_label, {\"1D Return\": None, \"3D Return\": None, \"1W Return\": None})\n",
        "\n",
        "    pos = row[\"FinBERT Positive %\"]\n",
        "    neg = row[\"FinBERT Negative %\"]\n",
        "    ratio = round(pos / neg, 2) if neg else None\n",
        "\n",
        "    final_table.append({\n",
        "        \"Quarter\": q_label,\n",
        "        \"Positive %\": pos,\n",
        "        \"Negative %\": neg,\n",
        "        \"Pos/Neg Ratio\": ratio,\n",
        "        \"1D Return\": stock_data[\"1D Return\"],\n",
        "        \"3D Return\": stock_data[\"3D Return\"],\n",
        "        \"1W Return\": stock_data[\"1W Return\"]\n",
        "    })\n",
        "\n",
        "df_final = pd.DataFrame(final_table)\n",
        "df_final.set_index(\"Quarter\", inplace=True)\n",
        "df_final\n"
      ],
      "metadata": {
        "colab": {
          "base_uri": "https://localhost:8080/",
          "height": 238
        },
        "id": "dJ7JzQurp50J",
        "outputId": "9437d680-589f-45c5-8c19-7390e5040b81"
      },
      "execution_count": 57,
      "outputs": [
        {
          "output_type": "execute_result",
          "data": {
            "text/plain": [
              "         Positive %  Negative %  Pos/Neg Ratio  1D Return  3D Return  \\\n",
              "Quarter                                                                \n",
              "Q1             37.0        52.0           0.71       -2.1       -3.5   \n",
              "Q2             37.0        52.0           0.71        1.5        2.3   \n",
              "Q3             37.0        52.0           0.71        NaN        NaN   \n",
              "Q4             37.0        52.0           0.71        NaN        NaN   \n",
              "Q5             37.0        52.0           0.71        NaN        NaN   \n",
              "\n",
              "         1W Return  \n",
              "Quarter             \n",
              "Q1            -1.2  \n",
              "Q2             4.0  \n",
              "Q3             NaN  \n",
              "Q4             NaN  \n",
              "Q5             NaN  "
            ],
            "text/html": [
              "\n",
              "  <div id=\"df-c664cf4e-8876-4483-bed6-e2ccff15842b\" class=\"colab-df-container\">\n",
              "    <div>\n",
              "<style scoped>\n",
              "    .dataframe tbody tr th:only-of-type {\n",
              "        vertical-align: middle;\n",
              "    }\n",
              "\n",
              "    .dataframe tbody tr th {\n",
              "        vertical-align: top;\n",
              "    }\n",
              "\n",
              "    .dataframe thead th {\n",
              "        text-align: right;\n",
              "    }\n",
              "</style>\n",
              "<table border=\"1\" class=\"dataframe\">\n",
              "  <thead>\n",
              "    <tr style=\"text-align: right;\">\n",
              "      <th></th>\n",
              "      <th>Positive %</th>\n",
              "      <th>Negative %</th>\n",
              "      <th>Pos/Neg Ratio</th>\n",
              "      <th>1D Return</th>\n",
              "      <th>3D Return</th>\n",
              "      <th>1W Return</th>\n",
              "    </tr>\n",
              "    <tr>\n",
              "      <th>Quarter</th>\n",
              "      <th></th>\n",
              "      <th></th>\n",
              "      <th></th>\n",
              "      <th></th>\n",
              "      <th></th>\n",
              "      <th></th>\n",
              "    </tr>\n",
              "  </thead>\n",
              "  <tbody>\n",
              "    <tr>\n",
              "      <th>Q1</th>\n",
              "      <td>37.0</td>\n",
              "      <td>52.0</td>\n",
              "      <td>0.71</td>\n",
              "      <td>-2.1</td>\n",
              "      <td>-3.5</td>\n",
              "      <td>-1.2</td>\n",
              "    </tr>\n",
              "    <tr>\n",
              "      <th>Q2</th>\n",
              "      <td>37.0</td>\n",
              "      <td>52.0</td>\n",
              "      <td>0.71</td>\n",
              "      <td>1.5</td>\n",
              "      <td>2.3</td>\n",
              "      <td>4.0</td>\n",
              "    </tr>\n",
              "    <tr>\n",
              "      <th>Q3</th>\n",
              "      <td>37.0</td>\n",
              "      <td>52.0</td>\n",
              "      <td>0.71</td>\n",
              "      <td>NaN</td>\n",
              "      <td>NaN</td>\n",
              "      <td>NaN</td>\n",
              "    </tr>\n",
              "    <tr>\n",
              "      <th>Q4</th>\n",
              "      <td>37.0</td>\n",
              "      <td>52.0</td>\n",
              "      <td>0.71</td>\n",
              "      <td>NaN</td>\n",
              "      <td>NaN</td>\n",
              "      <td>NaN</td>\n",
              "    </tr>\n",
              "    <tr>\n",
              "      <th>Q5</th>\n",
              "      <td>37.0</td>\n",
              "      <td>52.0</td>\n",
              "      <td>0.71</td>\n",
              "      <td>NaN</td>\n",
              "      <td>NaN</td>\n",
              "      <td>NaN</td>\n",
              "    </tr>\n",
              "  </tbody>\n",
              "</table>\n",
              "</div>\n",
              "    <div class=\"colab-df-buttons\">\n",
              "\n",
              "  <div class=\"colab-df-container\">\n",
              "    <button class=\"colab-df-convert\" onclick=\"convertToInteractive('df-c664cf4e-8876-4483-bed6-e2ccff15842b')\"\n",
              "            title=\"Convert this dataframe to an interactive table.\"\n",
              "            style=\"display:none;\">\n",
              "\n",
              "  <svg xmlns=\"http://www.w3.org/2000/svg\" height=\"24px\" viewBox=\"0 -960 960 960\">\n",
              "    <path d=\"M120-120v-720h720v720H120Zm60-500h600v-160H180v160Zm220 220h160v-160H400v160Zm0 220h160v-160H400v160ZM180-400h160v-160H180v160Zm440 0h160v-160H620v160ZM180-180h160v-160H180v160Zm440 0h160v-160H620v160Z\"/>\n",
              "  </svg>\n",
              "    </button>\n",
              "\n",
              "  <style>\n",
              "    .colab-df-container {\n",
              "      display:flex;\n",
              "      gap: 12px;\n",
              "    }\n",
              "\n",
              "    .colab-df-convert {\n",
              "      background-color: #E8F0FE;\n",
              "      border: none;\n",
              "      border-radius: 50%;\n",
              "      cursor: pointer;\n",
              "      display: none;\n",
              "      fill: #1967D2;\n",
              "      height: 32px;\n",
              "      padding: 0 0 0 0;\n",
              "      width: 32px;\n",
              "    }\n",
              "\n",
              "    .colab-df-convert:hover {\n",
              "      background-color: #E2EBFA;\n",
              "      box-shadow: 0px 1px 2px rgba(60, 64, 67, 0.3), 0px 1px 3px 1px rgba(60, 64, 67, 0.15);\n",
              "      fill: #174EA6;\n",
              "    }\n",
              "\n",
              "    .colab-df-buttons div {\n",
              "      margin-bottom: 4px;\n",
              "    }\n",
              "\n",
              "    [theme=dark] .colab-df-convert {\n",
              "      background-color: #3B4455;\n",
              "      fill: #D2E3FC;\n",
              "    }\n",
              "\n",
              "    [theme=dark] .colab-df-convert:hover {\n",
              "      background-color: #434B5C;\n",
              "      box-shadow: 0px 1px 3px 1px rgba(0, 0, 0, 0.15);\n",
              "      filter: drop-shadow(0px 1px 2px rgba(0, 0, 0, 0.3));\n",
              "      fill: #FFFFFF;\n",
              "    }\n",
              "  </style>\n",
              "\n",
              "    <script>\n",
              "      const buttonEl =\n",
              "        document.querySelector('#df-c664cf4e-8876-4483-bed6-e2ccff15842b button.colab-df-convert');\n",
              "      buttonEl.style.display =\n",
              "        google.colab.kernel.accessAllowed ? 'block' : 'none';\n",
              "\n",
              "      async function convertToInteractive(key) {\n",
              "        const element = document.querySelector('#df-c664cf4e-8876-4483-bed6-e2ccff15842b');\n",
              "        const dataTable =\n",
              "          await google.colab.kernel.invokeFunction('convertToInteractive',\n",
              "                                                    [key], {});\n",
              "        if (!dataTable) return;\n",
              "\n",
              "        const docLinkHtml = 'Like what you see? Visit the ' +\n",
              "          '<a target=\"_blank\" href=https://colab.research.google.com/notebooks/data_table.ipynb>data table notebook</a>'\n",
              "          + ' to learn more about interactive tables.';\n",
              "        element.innerHTML = '';\n",
              "        dataTable['output_type'] = 'display_data';\n",
              "        await google.colab.output.renderOutput(dataTable, element);\n",
              "        const docLink = document.createElement('div');\n",
              "        docLink.innerHTML = docLinkHtml;\n",
              "        element.appendChild(docLink);\n",
              "      }\n",
              "    </script>\n",
              "  </div>\n",
              "\n",
              "\n",
              "<div id=\"df-f8a669cf-06fb-4add-956c-7648d4a99c3d\">\n",
              "  <button class=\"colab-df-quickchart\" onclick=\"quickchart('df-f8a669cf-06fb-4add-956c-7648d4a99c3d')\"\n",
              "            title=\"Suggest charts\"\n",
              "            style=\"display:none;\">\n",
              "\n",
              "<svg xmlns=\"http://www.w3.org/2000/svg\" height=\"24px\"viewBox=\"0 0 24 24\"\n",
              "     width=\"24px\">\n",
              "    <g>\n",
              "        <path d=\"M19 3H5c-1.1 0-2 .9-2 2v14c0 1.1.9 2 2 2h14c1.1 0 2-.9 2-2V5c0-1.1-.9-2-2-2zM9 17H7v-7h2v7zm4 0h-2V7h2v10zm4 0h-2v-4h2v4z\"/>\n",
              "    </g>\n",
              "</svg>\n",
              "  </button>\n",
              "\n",
              "<style>\n",
              "  .colab-df-quickchart {\n",
              "      --bg-color: #E8F0FE;\n",
              "      --fill-color: #1967D2;\n",
              "      --hover-bg-color: #E2EBFA;\n",
              "      --hover-fill-color: #174EA6;\n",
              "      --disabled-fill-color: #AAA;\n",
              "      --disabled-bg-color: #DDD;\n",
              "  }\n",
              "\n",
              "  [theme=dark] .colab-df-quickchart {\n",
              "      --bg-color: #3B4455;\n",
              "      --fill-color: #D2E3FC;\n",
              "      --hover-bg-color: #434B5C;\n",
              "      --hover-fill-color: #FFFFFF;\n",
              "      --disabled-bg-color: #3B4455;\n",
              "      --disabled-fill-color: #666;\n",
              "  }\n",
              "\n",
              "  .colab-df-quickchart {\n",
              "    background-color: var(--bg-color);\n",
              "    border: none;\n",
              "    border-radius: 50%;\n",
              "    cursor: pointer;\n",
              "    display: none;\n",
              "    fill: var(--fill-color);\n",
              "    height: 32px;\n",
              "    padding: 0;\n",
              "    width: 32px;\n",
              "  }\n",
              "\n",
              "  .colab-df-quickchart:hover {\n",
              "    background-color: var(--hover-bg-color);\n",
              "    box-shadow: 0 1px 2px rgba(60, 64, 67, 0.3), 0 1px 3px 1px rgba(60, 64, 67, 0.15);\n",
              "    fill: var(--button-hover-fill-color);\n",
              "  }\n",
              "\n",
              "  .colab-df-quickchart-complete:disabled,\n",
              "  .colab-df-quickchart-complete:disabled:hover {\n",
              "    background-color: var(--disabled-bg-color);\n",
              "    fill: var(--disabled-fill-color);\n",
              "    box-shadow: none;\n",
              "  }\n",
              "\n",
              "  .colab-df-spinner {\n",
              "    border: 2px solid var(--fill-color);\n",
              "    border-color: transparent;\n",
              "    border-bottom-color: var(--fill-color);\n",
              "    animation:\n",
              "      spin 1s steps(1) infinite;\n",
              "  }\n",
              "\n",
              "  @keyframes spin {\n",
              "    0% {\n",
              "      border-color: transparent;\n",
              "      border-bottom-color: var(--fill-color);\n",
              "      border-left-color: var(--fill-color);\n",
              "    }\n",
              "    20% {\n",
              "      border-color: transparent;\n",
              "      border-left-color: var(--fill-color);\n",
              "      border-top-color: var(--fill-color);\n",
              "    }\n",
              "    30% {\n",
              "      border-color: transparent;\n",
              "      border-left-color: var(--fill-color);\n",
              "      border-top-color: var(--fill-color);\n",
              "      border-right-color: var(--fill-color);\n",
              "    }\n",
              "    40% {\n",
              "      border-color: transparent;\n",
              "      border-right-color: var(--fill-color);\n",
              "      border-top-color: var(--fill-color);\n",
              "    }\n",
              "    60% {\n",
              "      border-color: transparent;\n",
              "      border-right-color: var(--fill-color);\n",
              "    }\n",
              "    80% {\n",
              "      border-color: transparent;\n",
              "      border-right-color: var(--fill-color);\n",
              "      border-bottom-color: var(--fill-color);\n",
              "    }\n",
              "    90% {\n",
              "      border-color: transparent;\n",
              "      border-bottom-color: var(--fill-color);\n",
              "    }\n",
              "  }\n",
              "</style>\n",
              "\n",
              "  <script>\n",
              "    async function quickchart(key) {\n",
              "      const quickchartButtonEl =\n",
              "        document.querySelector('#' + key + ' button');\n",
              "      quickchartButtonEl.disabled = true;  // To prevent multiple clicks.\n",
              "      quickchartButtonEl.classList.add('colab-df-spinner');\n",
              "      try {\n",
              "        const charts = await google.colab.kernel.invokeFunction(\n",
              "            'suggestCharts', [key], {});\n",
              "      } catch (error) {\n",
              "        console.error('Error during call to suggestCharts:', error);\n",
              "      }\n",
              "      quickchartButtonEl.classList.remove('colab-df-spinner');\n",
              "      quickchartButtonEl.classList.add('colab-df-quickchart-complete');\n",
              "    }\n",
              "    (() => {\n",
              "      let quickchartButtonEl =\n",
              "        document.querySelector('#df-f8a669cf-06fb-4add-956c-7648d4a99c3d button');\n",
              "      quickchartButtonEl.style.display =\n",
              "        google.colab.kernel.accessAllowed ? 'block' : 'none';\n",
              "    })();\n",
              "  </script>\n",
              "</div>\n",
              "\n",
              "  <div id=\"id_63eaabc9-cd3b-4315-968c-d41efaacc0b9\">\n",
              "    <style>\n",
              "      .colab-df-generate {\n",
              "        background-color: #E8F0FE;\n",
              "        border: none;\n",
              "        border-radius: 50%;\n",
              "        cursor: pointer;\n",
              "        display: none;\n",
              "        fill: #1967D2;\n",
              "        height: 32px;\n",
              "        padding: 0 0 0 0;\n",
              "        width: 32px;\n",
              "      }\n",
              "\n",
              "      .colab-df-generate:hover {\n",
              "        background-color: #E2EBFA;\n",
              "        box-shadow: 0px 1px 2px rgba(60, 64, 67, 0.3), 0px 1px 3px 1px rgba(60, 64, 67, 0.15);\n",
              "        fill: #174EA6;\n",
              "      }\n",
              "\n",
              "      [theme=dark] .colab-df-generate {\n",
              "        background-color: #3B4455;\n",
              "        fill: #D2E3FC;\n",
              "      }\n",
              "\n",
              "      [theme=dark] .colab-df-generate:hover {\n",
              "        background-color: #434B5C;\n",
              "        box-shadow: 0px 1px 3px 1px rgba(0, 0, 0, 0.15);\n",
              "        filter: drop-shadow(0px 1px 2px rgba(0, 0, 0, 0.3));\n",
              "        fill: #FFFFFF;\n",
              "      }\n",
              "    </style>\n",
              "    <button class=\"colab-df-generate\" onclick=\"generateWithVariable('df_final')\"\n",
              "            title=\"Generate code using this dataframe.\"\n",
              "            style=\"display:none;\">\n",
              "\n",
              "  <svg xmlns=\"http://www.w3.org/2000/svg\" height=\"24px\"viewBox=\"0 0 24 24\"\n",
              "       width=\"24px\">\n",
              "    <path d=\"M7,19H8.4L18.45,9,17,7.55,7,17.6ZM5,21V16.75L18.45,3.32a2,2,0,0,1,2.83,0l1.4,1.43a1.91,1.91,0,0,1,.58,1.4,1.91,1.91,0,0,1-.58,1.4L9.25,21ZM18.45,9,17,7.55Zm-12,3A5.31,5.31,0,0,0,4.9,8.1,5.31,5.31,0,0,0,1,6.5,5.31,5.31,0,0,0,4.9,4.9,5.31,5.31,0,0,0,6.5,1,5.31,5.31,0,0,0,8.1,4.9,5.31,5.31,0,0,0,12,6.5,5.46,5.46,0,0,0,6.5,12Z\"/>\n",
              "  </svg>\n",
              "    </button>\n",
              "    <script>\n",
              "      (() => {\n",
              "      const buttonEl =\n",
              "        document.querySelector('#id_63eaabc9-cd3b-4315-968c-d41efaacc0b9 button.colab-df-generate');\n",
              "      buttonEl.style.display =\n",
              "        google.colab.kernel.accessAllowed ? 'block' : 'none';\n",
              "\n",
              "      buttonEl.onclick = () => {\n",
              "        google.colab.notebook.generateWithVariable('df_final');\n",
              "      }\n",
              "      })();\n",
              "    </script>\n",
              "  </div>\n",
              "\n",
              "    </div>\n",
              "  </div>\n"
            ],
            "application/vnd.google.colaboratory.intrinsic+json": {
              "type": "dataframe",
              "variable_name": "df_final",
              "summary": "{\n  \"name\": \"df_final\",\n  \"rows\": 5,\n  \"fields\": [\n    {\n      \"column\": \"Quarter\",\n      \"properties\": {\n        \"dtype\": \"string\",\n        \"num_unique_values\": 5,\n        \"samples\": [\n          \"Q2\",\n          \"Q5\",\n          \"Q3\"\n        ],\n        \"semantic_type\": \"\",\n        \"description\": \"\"\n      }\n    },\n    {\n      \"column\": \"Positive %\",\n      \"properties\": {\n        \"dtype\": \"number\",\n        \"std\": 0.0,\n        \"min\": 37.0,\n        \"max\": 37.0,\n        \"num_unique_values\": 1,\n        \"samples\": [\n          37.0\n        ],\n        \"semantic_type\": \"\",\n        \"description\": \"\"\n      }\n    },\n    {\n      \"column\": \"Negative %\",\n      \"properties\": {\n        \"dtype\": \"number\",\n        \"std\": 0.0,\n        \"min\": 52.0,\n        \"max\": 52.0,\n        \"num_unique_values\": 1,\n        \"samples\": [\n          52.0\n        ],\n        \"semantic_type\": \"\",\n        \"description\": \"\"\n      }\n    },\n    {\n      \"column\": \"Pos/Neg Ratio\",\n      \"properties\": {\n        \"dtype\": \"number\",\n        \"std\": 0.0,\n        \"min\": 0.71,\n        \"max\": 0.71,\n        \"num_unique_values\": 1,\n        \"samples\": [\n          0.71\n        ],\n        \"semantic_type\": \"\",\n        \"description\": \"\"\n      }\n    },\n    {\n      \"column\": \"1D Return\",\n      \"properties\": {\n        \"dtype\": \"number\",\n        \"std\": 2.545584412271571,\n        \"min\": -2.1,\n        \"max\": 1.5,\n        \"num_unique_values\": 2,\n        \"samples\": [\n          1.5\n        ],\n        \"semantic_type\": \"\",\n        \"description\": \"\"\n      }\n    },\n    {\n      \"column\": \"3D Return\",\n      \"properties\": {\n        \"dtype\": \"number\",\n        \"std\": 4.1012193308819755,\n        \"min\": -3.5,\n        \"max\": 2.3,\n        \"num_unique_values\": 2,\n        \"samples\": [\n          2.3\n        ],\n        \"semantic_type\": \"\",\n        \"description\": \"\"\n      }\n    },\n    {\n      \"column\": \"1W Return\",\n      \"properties\": {\n        \"dtype\": \"number\",\n        \"std\": 3.676955262170047,\n        \"min\": -1.2,\n        \"max\": 4.0,\n        \"num_unique_values\": 2,\n        \"samples\": [\n          4.0\n        ],\n        \"semantic_type\": \"\",\n        \"description\": \"\"\n      }\n    }\n  ]\n}"
            }
          },
          "metadata": {},
          "execution_count": 57
        }
      ]
    },
    {
      "cell_type": "code",
      "source": [
        "df_final.to_csv(\"earnings_sentiment_vs_returns.csv\")"
      ],
      "metadata": {
        "id": "d6Tj1zhpky9c"
      },
      "execution_count": 58,
      "outputs": []
    }
  ]
}